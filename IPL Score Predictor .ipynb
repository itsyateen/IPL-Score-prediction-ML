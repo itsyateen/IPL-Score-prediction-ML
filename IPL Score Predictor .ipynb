{
 "cells": [
  {
   "cell_type": "markdown",
   "id": "9d6efefb",
   "metadata": {},
   "source": [
    "# IPL - Cricket Score Predictor"
   ]
  },
  {
   "cell_type": "code",
   "execution_count": 55,
   "id": "de317a9f",
   "metadata": {},
   "outputs": [],
   "source": [
    "import pandas as pd\n",
    "import numpy as np\n",
    "import matplotlib.pyplot as plt\n",
    "import seaborn as sns\n",
    "import warnings\n",
    "warnings.filterwarnings('ignore')\n",
    "\n",
    "from sklearn.preprocessing import LabelEncoder, OneHotEncoder\n",
    "from sklearn.compose import ColumnTransformer\n",
    "\n",
    "from sklearn.model_selection import train_test_split\n",
    "from sklearn.preprocessing import StandardScaler\n",
    "\n",
    "# Models\n",
    "from sklearn.linear_model import LinearRegression\n",
    "from sklearn.tree import DecisionTreeRegressor\n",
    "from sklearn.ensemble import RandomForestRegressor\n",
    "from sklearn.ensemble import GradientBoostingRegressor\n",
    "from sklearn.neighbors import KNeighborsRegressor\n",
    "from xgboost import XGBRegressor\n",
    "\n",
    "# Metrics\n",
    "from sklearn import metrics\n",
    "from sklearn.metrics import mean_absolute_error,mean_squared_error,r2_score\n",
    "from sklearn.model_selection import GridSearchCV"
   ]
  },
  {
   "cell_type": "code",
   "execution_count": 2,
   "id": "440390f2",
   "metadata": {},
   "outputs": [],
   "source": [
    "df = pd.read_csv('ipl_data.csv')   # data set upto 2017"
   ]
  },
  {
   "cell_type": "code",
   "execution_count": 3,
   "id": "dea64677",
   "metadata": {},
   "outputs": [
    {
     "data": {
      "text/html": [
       "<div>\n",
       "<style scoped>\n",
       "    .dataframe tbody tr th:only-of-type {\n",
       "        vertical-align: middle;\n",
       "    }\n",
       "\n",
       "    .dataframe tbody tr th {\n",
       "        vertical-align: top;\n",
       "    }\n",
       "\n",
       "    .dataframe thead th {\n",
       "        text-align: right;\n",
       "    }\n",
       "</style>\n",
       "<table border=\"1\" class=\"dataframe\">\n",
       "  <thead>\n",
       "    <tr style=\"text-align: right;\">\n",
       "      <th></th>\n",
       "      <th>Match ID</th>\n",
       "      <th>date</th>\n",
       "      <th>venue</th>\n",
       "      <th>bat_team</th>\n",
       "      <th>bowl_team</th>\n",
       "      <th>batsman</th>\n",
       "      <th>bowler</th>\n",
       "      <th>runs</th>\n",
       "      <th>wickets</th>\n",
       "      <th>overs</th>\n",
       "      <th>runs_last_5overs</th>\n",
       "      <th>wickets_last_5over</th>\n",
       "      <th>striker</th>\n",
       "      <th>non-striker</th>\n",
       "      <th>total</th>\n",
       "    </tr>\n",
       "  </thead>\n",
       "  <tbody>\n",
       "    <tr>\n",
       "      <th>0</th>\n",
       "      <td>1</td>\n",
       "      <td>18/04/2008</td>\n",
       "      <td>M Chinnaswamy Stadium</td>\n",
       "      <td>Kolkata Knight Riders</td>\n",
       "      <td>Royal Challengers Bangalore</td>\n",
       "      <td>SC Ganguly</td>\n",
       "      <td>P Kumar</td>\n",
       "      <td>1</td>\n",
       "      <td>0</td>\n",
       "      <td>0.1</td>\n",
       "      <td>1</td>\n",
       "      <td>0</td>\n",
       "      <td>0</td>\n",
       "      <td>0</td>\n",
       "      <td>222</td>\n",
       "    </tr>\n",
       "    <tr>\n",
       "      <th>1</th>\n",
       "      <td>1</td>\n",
       "      <td>18/04/2008</td>\n",
       "      <td>M Chinnaswamy Stadium</td>\n",
       "      <td>Kolkata Knight Riders</td>\n",
       "      <td>Royal Challengers Bangalore</td>\n",
       "      <td>BB McCullum</td>\n",
       "      <td>P Kumar</td>\n",
       "      <td>1</td>\n",
       "      <td>0</td>\n",
       "      <td>0.2</td>\n",
       "      <td>1</td>\n",
       "      <td>0</td>\n",
       "      <td>0</td>\n",
       "      <td>0</td>\n",
       "      <td>222</td>\n",
       "    </tr>\n",
       "    <tr>\n",
       "      <th>2</th>\n",
       "      <td>1</td>\n",
       "      <td>18/04/2008</td>\n",
       "      <td>M Chinnaswamy Stadium</td>\n",
       "      <td>Kolkata Knight Riders</td>\n",
       "      <td>Royal Challengers Bangalore</td>\n",
       "      <td>BB McCullum</td>\n",
       "      <td>P Kumar</td>\n",
       "      <td>2</td>\n",
       "      <td>0</td>\n",
       "      <td>0.2</td>\n",
       "      <td>2</td>\n",
       "      <td>0</td>\n",
       "      <td>0</td>\n",
       "      <td>0</td>\n",
       "      <td>222</td>\n",
       "    </tr>\n",
       "    <tr>\n",
       "      <th>3</th>\n",
       "      <td>1</td>\n",
       "      <td>18/04/2008</td>\n",
       "      <td>M Chinnaswamy Stadium</td>\n",
       "      <td>Kolkata Knight Riders</td>\n",
       "      <td>Royal Challengers Bangalore</td>\n",
       "      <td>BB McCullum</td>\n",
       "      <td>P Kumar</td>\n",
       "      <td>2</td>\n",
       "      <td>0</td>\n",
       "      <td>0.3</td>\n",
       "      <td>2</td>\n",
       "      <td>0</td>\n",
       "      <td>0</td>\n",
       "      <td>0</td>\n",
       "      <td>222</td>\n",
       "    </tr>\n",
       "    <tr>\n",
       "      <th>4</th>\n",
       "      <td>1</td>\n",
       "      <td>18/04/2008</td>\n",
       "      <td>M Chinnaswamy Stadium</td>\n",
       "      <td>Kolkata Knight Riders</td>\n",
       "      <td>Royal Challengers Bangalore</td>\n",
       "      <td>BB McCullum</td>\n",
       "      <td>P Kumar</td>\n",
       "      <td>2</td>\n",
       "      <td>0</td>\n",
       "      <td>0.4</td>\n",
       "      <td>2</td>\n",
       "      <td>0</td>\n",
       "      <td>0</td>\n",
       "      <td>0</td>\n",
       "      <td>222</td>\n",
       "    </tr>\n",
       "  </tbody>\n",
       "</table>\n",
       "</div>"
      ],
      "text/plain": [
       "   Match ID        date                  venue               bat_team  \\\n",
       "0         1  18/04/2008  M Chinnaswamy Stadium  Kolkata Knight Riders   \n",
       "1         1  18/04/2008  M Chinnaswamy Stadium  Kolkata Knight Riders   \n",
       "2         1  18/04/2008  M Chinnaswamy Stadium  Kolkata Knight Riders   \n",
       "3         1  18/04/2008  M Chinnaswamy Stadium  Kolkata Knight Riders   \n",
       "4         1  18/04/2008  M Chinnaswamy Stadium  Kolkata Knight Riders   \n",
       "\n",
       "                     bowl_team      batsman   bowler  runs  wickets  overs  \\\n",
       "0  Royal Challengers Bangalore   SC Ganguly  P Kumar     1        0    0.1   \n",
       "1  Royal Challengers Bangalore  BB McCullum  P Kumar     1        0    0.2   \n",
       "2  Royal Challengers Bangalore  BB McCullum  P Kumar     2        0    0.2   \n",
       "3  Royal Challengers Bangalore  BB McCullum  P Kumar     2        0    0.3   \n",
       "4  Royal Challengers Bangalore  BB McCullum  P Kumar     2        0    0.4   \n",
       "\n",
       "   runs_last_5overs  wickets_last_5over  striker  non-striker  total  \n",
       "0                 1                   0        0            0    222  \n",
       "1                 1                   0        0            0    222  \n",
       "2                 2                   0        0            0    222  \n",
       "3                 2                   0        0            0    222  \n",
       "4                 2                   0        0            0    222  "
      ]
     },
     "execution_count": 3,
     "metadata": {},
     "output_type": "execute_result"
    }
   ],
   "source": [
    "df.head()"
   ]
  },
  {
   "cell_type": "code",
   "execution_count": 4,
   "id": "930f33a6",
   "metadata": {},
   "outputs": [
    {
     "data": {
      "text/plain": [
       "(76014, 15)"
      ]
     },
     "execution_count": 4,
     "metadata": {},
     "output_type": "execute_result"
    }
   ],
   "source": [
    "df.shape              #76014 rows and 15 rows"
   ]
  },
  {
   "cell_type": "code",
   "execution_count": 5,
   "id": "f3b28c2f",
   "metadata": {},
   "outputs": [
    {
     "name": "stdout",
     "output_type": "stream",
     "text": [
      "<class 'pandas.core.frame.DataFrame'>\n",
      "RangeIndex: 76014 entries, 0 to 76013\n",
      "Data columns (total 15 columns):\n",
      " #   Column              Non-Null Count  Dtype  \n",
      "---  ------              --------------  -----  \n",
      " 0   Match ID            76014 non-null  int64  \n",
      " 1   date                76014 non-null  object \n",
      " 2   venue               76014 non-null  object \n",
      " 3   bat_team            76014 non-null  object \n",
      " 4   bowl_team           76014 non-null  object \n",
      " 5   batsman             76014 non-null  object \n",
      " 6   bowler              76014 non-null  object \n",
      " 7   runs                76014 non-null  int64  \n",
      " 8   wickets             76014 non-null  int64  \n",
      " 9   overs               76014 non-null  float64\n",
      " 10  runs_last_5overs    76014 non-null  int64  \n",
      " 11  wickets_last_5over  76014 non-null  int64  \n",
      " 12  striker             76014 non-null  int64  \n",
      " 13  non-striker         76014 non-null  int64  \n",
      " 14  total               76014 non-null  int64  \n",
      "dtypes: float64(1), int64(8), object(6)\n",
      "memory usage: 8.7+ MB\n"
     ]
    }
   ],
   "source": [
    "df.info()"
   ]
  },
  {
   "cell_type": "code",
   "execution_count": 6,
   "id": "d67eab3d",
   "metadata": {},
   "outputs": [
    {
     "data": {
      "text/html": [
       "<div>\n",
       "<style scoped>\n",
       "    .dataframe tbody tr th:only-of-type {\n",
       "        vertical-align: middle;\n",
       "    }\n",
       "\n",
       "    .dataframe tbody tr th {\n",
       "        vertical-align: top;\n",
       "    }\n",
       "\n",
       "    .dataframe thead th {\n",
       "        text-align: right;\n",
       "    }\n",
       "</style>\n",
       "<table border=\"1\" class=\"dataframe\">\n",
       "  <thead>\n",
       "    <tr style=\"text-align: right;\">\n",
       "      <th></th>\n",
       "      <th>Match ID</th>\n",
       "      <th>runs</th>\n",
       "      <th>wickets</th>\n",
       "      <th>overs</th>\n",
       "      <th>runs_last_5overs</th>\n",
       "      <th>wickets_last_5over</th>\n",
       "      <th>striker</th>\n",
       "      <th>non-striker</th>\n",
       "      <th>total</th>\n",
       "    </tr>\n",
       "  </thead>\n",
       "  <tbody>\n",
       "    <tr>\n",
       "      <th>count</th>\n",
       "      <td>76014.000000</td>\n",
       "      <td>76014.000000</td>\n",
       "      <td>76014.000000</td>\n",
       "      <td>76014.000000</td>\n",
       "      <td>76014.000000</td>\n",
       "      <td>76014.000000</td>\n",
       "      <td>76014.000000</td>\n",
       "      <td>76014.000000</td>\n",
       "      <td>76014.000000</td>\n",
       "    </tr>\n",
       "    <tr>\n",
       "      <th>mean</th>\n",
       "      <td>308.627740</td>\n",
       "      <td>74.889349</td>\n",
       "      <td>2.415844</td>\n",
       "      <td>9.783068</td>\n",
       "      <td>33.216434</td>\n",
       "      <td>1.120307</td>\n",
       "      <td>24.962283</td>\n",
       "      <td>8.869287</td>\n",
       "      <td>160.901452</td>\n",
       "    </tr>\n",
       "    <tr>\n",
       "      <th>std</th>\n",
       "      <td>178.156878</td>\n",
       "      <td>48.823327</td>\n",
       "      <td>2.015207</td>\n",
       "      <td>5.772587</td>\n",
       "      <td>14.914174</td>\n",
       "      <td>1.053343</td>\n",
       "      <td>20.079752</td>\n",
       "      <td>10.795742</td>\n",
       "      <td>29.246231</td>\n",
       "    </tr>\n",
       "    <tr>\n",
       "      <th>min</th>\n",
       "      <td>1.000000</td>\n",
       "      <td>0.000000</td>\n",
       "      <td>0.000000</td>\n",
       "      <td>0.000000</td>\n",
       "      <td>0.000000</td>\n",
       "      <td>0.000000</td>\n",
       "      <td>0.000000</td>\n",
       "      <td>0.000000</td>\n",
       "      <td>67.000000</td>\n",
       "    </tr>\n",
       "    <tr>\n",
       "      <th>25%</th>\n",
       "      <td>154.000000</td>\n",
       "      <td>34.000000</td>\n",
       "      <td>1.000000</td>\n",
       "      <td>4.600000</td>\n",
       "      <td>24.000000</td>\n",
       "      <td>0.000000</td>\n",
       "      <td>10.000000</td>\n",
       "      <td>1.000000</td>\n",
       "      <td>142.000000</td>\n",
       "    </tr>\n",
       "    <tr>\n",
       "      <th>50%</th>\n",
       "      <td>308.000000</td>\n",
       "      <td>70.000000</td>\n",
       "      <td>2.000000</td>\n",
       "      <td>9.600000</td>\n",
       "      <td>34.000000</td>\n",
       "      <td>1.000000</td>\n",
       "      <td>20.000000</td>\n",
       "      <td>5.000000</td>\n",
       "      <td>162.000000</td>\n",
       "    </tr>\n",
       "    <tr>\n",
       "      <th>75%</th>\n",
       "      <td>463.000000</td>\n",
       "      <td>111.000000</td>\n",
       "      <td>4.000000</td>\n",
       "      <td>14.600000</td>\n",
       "      <td>43.000000</td>\n",
       "      <td>2.000000</td>\n",
       "      <td>35.000000</td>\n",
       "      <td>13.000000</td>\n",
       "      <td>181.000000</td>\n",
       "    </tr>\n",
       "    <tr>\n",
       "      <th>max</th>\n",
       "      <td>617.000000</td>\n",
       "      <td>263.000000</td>\n",
       "      <td>10.000000</td>\n",
       "      <td>19.600000</td>\n",
       "      <td>113.000000</td>\n",
       "      <td>7.000000</td>\n",
       "      <td>175.000000</td>\n",
       "      <td>109.000000</td>\n",
       "      <td>263.000000</td>\n",
       "    </tr>\n",
       "  </tbody>\n",
       "</table>\n",
       "</div>"
      ],
      "text/plain": [
       "           Match ID          runs       wickets         overs  \\\n",
       "count  76014.000000  76014.000000  76014.000000  76014.000000   \n",
       "mean     308.627740     74.889349      2.415844      9.783068   \n",
       "std      178.156878     48.823327      2.015207      5.772587   \n",
       "min        1.000000      0.000000      0.000000      0.000000   \n",
       "25%      154.000000     34.000000      1.000000      4.600000   \n",
       "50%      308.000000     70.000000      2.000000      9.600000   \n",
       "75%      463.000000    111.000000      4.000000     14.600000   \n",
       "max      617.000000    263.000000     10.000000     19.600000   \n",
       "\n",
       "       runs_last_5overs  wickets_last_5over       striker   non-striker  \\\n",
       "count      76014.000000        76014.000000  76014.000000  76014.000000   \n",
       "mean          33.216434            1.120307     24.962283      8.869287   \n",
       "std           14.914174            1.053343     20.079752     10.795742   \n",
       "min            0.000000            0.000000      0.000000      0.000000   \n",
       "25%           24.000000            0.000000     10.000000      1.000000   \n",
       "50%           34.000000            1.000000     20.000000      5.000000   \n",
       "75%           43.000000            2.000000     35.000000     13.000000   \n",
       "max          113.000000            7.000000    175.000000    109.000000   \n",
       "\n",
       "              total  \n",
       "count  76014.000000  \n",
       "mean     160.901452  \n",
       "std       29.246231  \n",
       "min       67.000000  \n",
       "25%      142.000000  \n",
       "50%      162.000000  \n",
       "75%      181.000000  \n",
       "max      263.000000  "
      ]
     },
     "execution_count": 6,
     "metadata": {},
     "output_type": "execute_result"
    }
   ],
   "source": [
    "df.describe()"
   ]
  },
  {
   "cell_type": "code",
   "execution_count": 7,
   "id": "6635ebe3",
   "metadata": {},
   "outputs": [
    {
     "data": {
      "text/plain": [
       "Index(['Match ID', 'date', 'venue', 'bat_team', 'bowl_team', 'batsman',\n",
       "       'bowler', 'runs', 'wickets', 'overs', 'runs_last_5overs',\n",
       "       'wickets_last_5over', 'striker', 'non-striker', 'total'],\n",
       "      dtype='object')"
      ]
     },
     "execution_count": 7,
     "metadata": {},
     "output_type": "execute_result"
    }
   ],
   "source": [
    "df.columns"
   ]
  },
  {
   "cell_type": "code",
   "execution_count": 8,
   "id": "008cbbfc",
   "metadata": {},
   "outputs": [
    {
     "data": {
      "text/plain": [
       "Match ID              0\n",
       "date                  0\n",
       "venue                 0\n",
       "bat_team              0\n",
       "bowl_team             0\n",
       "batsman               0\n",
       "bowler                0\n",
       "runs                  0\n",
       "wickets               0\n",
       "overs                 0\n",
       "runs_last_5overs      0\n",
       "wickets_last_5over    0\n",
       "striker               0\n",
       "non-striker           0\n",
       "total                 0\n",
       "dtype: int64"
      ]
     },
     "execution_count": 8,
     "metadata": {},
     "output_type": "execute_result"
    }
   ],
   "source": [
    "df.isnull().sum()       # NO null values!!"
   ]
  },
  {
   "cell_type": "code",
   "execution_count": 9,
   "id": "18249d81",
   "metadata": {},
   "outputs": [
    {
     "data": {
      "image/png": "[encoded data removed]",
      "text/plain": [
       "<Figure size 500x300 with 1 Axes>"
      ]
     },
     "metadata": {},
     "output_type": "display_data"
    }
   ],
   "source": [
    "# Lets check the Totalruns Distribution              \n",
    "\n",
    "plt.figure(figsize=(5,3))\n",
    "sns.distplot(df['total'])\n",
    "plt.title(\"Total Runs Distribution \")\n",
    "plt.show()"
   ]
  },
  {
   "cell_type": "code",
   "execution_count": 10,
   "id": "05098816",
   "metadata": {},
   "outputs": [
    {
     "data": {
      "image/png": "[encoded data removed]",
      "text/plain": [
       "<Figure size 500x300 with 1 Axes>"
      ]
     },
     "metadata": {},
     "output_type": "display_data"
    }
   ],
   "source": [
    "plt.figure(figsize=(5,3))\n",
    "sns.distplot(df['runs'])\n",
    "plt.title(\"Runs Distribution \")\n",
    "plt.show()"
   ]
  },
  {
   "cell_type": "code",
   "execution_count": 11,
   "id": "724f1bb3",
   "metadata": {},
   "outputs": [
    {
     "data": {
      "image/png": "[encoded data removed]",
      "text/plain": [
       "<Figure size 500x300 with 1 Axes>"
      ]
     },
     "metadata": {},
     "output_type": "display_data"
    }
   ],
   "source": [
    "# Wickets Distribution\n",
    "\n",
    "plt.figure(figsize=(5,3))\n",
    "sns.distplot(df['wickets'])\n",
    "plt.title(\"Wickets Distribution \")\n",
    "plt.show()"
   ]
  },
  {
   "cell_type": "code",
   "execution_count": 12,
   "id": "e41559c6",
   "metadata": {},
   "outputs": [
    {
     "data": {
      "image/png": "[encoded data removed]",
      "text/plain": [
       "<Figure size 500x300 with 1 Axes>"
      ]
     },
     "metadata": {},
     "output_type": "display_data"
    }
   ],
   "source": [
    "# Last5 overs runs Distribution\n",
    "\n",
    "plt.figure(figsize=(5,3))\n",
    "sns.distplot(df['runs_last_5overs'])\n",
    "plt.title(\"Runs last 5 Overs Distribution \")\n",
    "plt.show()"
   ]
  },
  {
   "cell_type": "code",
   "execution_count": 13,
   "id": "885b63cf",
   "metadata": {},
   "outputs": [
    {
     "data": {
      "image/png": "[encoded data removed]",
      "text/plain": [
       "<Figure size 500x300 with 1 Axes>"
      ]
     },
     "metadata": {},
     "output_type": "display_data"
    }
   ],
   "source": [
    "# Wickets overs runs Distribution\n",
    "\n",
    "plt.figure(figsize=(5,3))\n",
    "sns.distplot(df['wickets_last_5over'])\n",
    "plt.title(\"Wickets last 5 Overs Distribution \")\n",
    "plt.show()"
   ]
  },
  {
   "cell_type": "markdown",
   "id": "653cabc0",
   "metadata": {},
   "source": [
    "- Lets drop the unwanted columns which doesn't have much impact on the Target."
   ]
  },
  {
   "cell_type": "code",
   "execution_count": 14,
   "id": "e8c9ac6e",
   "metadata": {},
   "outputs": [
    {
     "data": {
      "text/plain": [
       "Index(['Match ID', 'date', 'venue', 'bat_team', 'bowl_team', 'batsman',\n",
       "       'bowler', 'runs', 'wickets', 'overs', 'runs_last_5overs',\n",
       "       'wickets_last_5over', 'striker', 'non-striker', 'total'],\n",
       "      dtype='object')"
      ]
     },
     "execution_count": 14,
     "metadata": {},
     "output_type": "execute_result"
    }
   ],
   "source": [
    "df.columns"
   ]
  },
  {
   "cell_type": "code",
   "execution_count": 15,
   "id": "2b161d83",
   "metadata": {},
   "outputs": [],
   "source": [
    "df.drop('Match ID',axis=1,inplace=True)\n",
    "df.drop('date',axis=1,inplace=True)\n",
    "df.drop('venue',axis=1,inplace=True)\n",
    "df.drop('batsman',axis=1,inplace=True)\n",
    "df.drop('bowler',axis=1,inplace=True)\n",
    "df.drop('striker',axis=1,inplace=True)\n",
    "df.drop('non-striker',axis=1,inplace=True)"
   ]
  },
  {
   "cell_type": "code",
   "execution_count": 16,
   "id": "e4a9b761",
   "metadata": {},
   "outputs": [
    {
     "data": {
      "text/plain": [
       "(76014, 8)"
      ]
     },
     "execution_count": 16,
     "metadata": {},
     "output_type": "execute_result"
    }
   ],
   "source": [
    "df.shape     # after removing unwanted columns now we have 8 columns."
   ]
  },
  {
   "cell_type": "code",
   "execution_count": 17,
   "id": "7df49a5b",
   "metadata": {},
   "outputs": [
    {
     "data": {
      "text/html": [
       "<div>\n",
       "<style scoped>\n",
       "    .dataframe tbody tr th:only-of-type {\n",
       "        vertical-align: middle;\n",
       "    }\n",
       "\n",
       "    .dataframe tbody tr th {\n",
       "        vertical-align: top;\n",
       "    }\n",
       "\n",
       "    .dataframe thead th {\n",
       "        text-align: right;\n",
       "    }\n",
       "</style>\n",
       "<table border=\"1\" class=\"dataframe\">\n",
       "  <thead>\n",
       "    <tr style=\"text-align: right;\">\n",
       "      <th></th>\n",
       "      <th>bat_team</th>\n",
       "      <th>bowl_team</th>\n",
       "      <th>runs</th>\n",
       "      <th>wickets</th>\n",
       "      <th>overs</th>\n",
       "      <th>runs_last_5overs</th>\n",
       "      <th>wickets_last_5over</th>\n",
       "      <th>total</th>\n",
       "    </tr>\n",
       "  </thead>\n",
       "  <tbody>\n",
       "    <tr>\n",
       "      <th>0</th>\n",
       "      <td>Kolkata Knight Riders</td>\n",
       "      <td>Royal Challengers Bangalore</td>\n",
       "      <td>1</td>\n",
       "      <td>0</td>\n",
       "      <td>0.1</td>\n",
       "      <td>1</td>\n",
       "      <td>0</td>\n",
       "      <td>222</td>\n",
       "    </tr>\n",
       "    <tr>\n",
       "      <th>1</th>\n",
       "      <td>Kolkata Knight Riders</td>\n",
       "      <td>Royal Challengers Bangalore</td>\n",
       "      <td>1</td>\n",
       "      <td>0</td>\n",
       "      <td>0.2</td>\n",
       "      <td>1</td>\n",
       "      <td>0</td>\n",
       "      <td>222</td>\n",
       "    </tr>\n",
       "    <tr>\n",
       "      <th>2</th>\n",
       "      <td>Kolkata Knight Riders</td>\n",
       "      <td>Royal Challengers Bangalore</td>\n",
       "      <td>2</td>\n",
       "      <td>0</td>\n",
       "      <td>0.2</td>\n",
       "      <td>2</td>\n",
       "      <td>0</td>\n",
       "      <td>222</td>\n",
       "    </tr>\n",
       "    <tr>\n",
       "      <th>3</th>\n",
       "      <td>Kolkata Knight Riders</td>\n",
       "      <td>Royal Challengers Bangalore</td>\n",
       "      <td>2</td>\n",
       "      <td>0</td>\n",
       "      <td>0.3</td>\n",
       "      <td>2</td>\n",
       "      <td>0</td>\n",
       "      <td>222</td>\n",
       "    </tr>\n",
       "    <tr>\n",
       "      <th>4</th>\n",
       "      <td>Kolkata Knight Riders</td>\n",
       "      <td>Royal Challengers Bangalore</td>\n",
       "      <td>2</td>\n",
       "      <td>0</td>\n",
       "      <td>0.4</td>\n",
       "      <td>2</td>\n",
       "      <td>0</td>\n",
       "      <td>222</td>\n",
       "    </tr>\n",
       "  </tbody>\n",
       "</table>\n",
       "</div>"
      ],
      "text/plain": [
       "                bat_team                    bowl_team  runs  wickets  overs  \\\n",
       "0  Kolkata Knight Riders  Royal Challengers Bangalore     1        0    0.1   \n",
       "1  Kolkata Knight Riders  Royal Challengers Bangalore     1        0    0.2   \n",
       "2  Kolkata Knight Riders  Royal Challengers Bangalore     2        0    0.2   \n",
       "3  Kolkata Knight Riders  Royal Challengers Bangalore     2        0    0.3   \n",
       "4  Kolkata Knight Riders  Royal Challengers Bangalore     2        0    0.4   \n",
       "\n",
       "   runs_last_5overs  wickets_last_5over  total  \n",
       "0                 1                   0    222  \n",
       "1                 1                   0    222  \n",
       "2                 2                   0    222  \n",
       "3                 2                   0    222  \n",
       "4                 2                   0    222  "
      ]
     },
     "execution_count": 17,
     "metadata": {},
     "output_type": "execute_result"
    }
   ],
   "source": [
    "df.head()"
   ]
  },
  {
   "cell_type": "code",
   "execution_count": 18,
   "id": "17a34c66",
   "metadata": {},
   "outputs": [
    {
     "data": {
      "text/plain": [
       "array(['Kolkata Knight Riders', 'Chennai Super Kings', 'Rajasthan Royals',\n",
       "       'Mumbai Indians', 'Deccan Chargers', 'Kings XI Punjab',\n",
       "       'Royal Challengers Bangalore', 'Delhi Daredevils',\n",
       "       'Kochi Tuskers Kerala', 'Pune Warriors', 'Sunrisers Hyderabad',\n",
       "       'Rising Pune Supergiants', 'Gujarat Lions',\n",
       "       'Rising Pune Supergiant'], dtype=object)"
      ]
     },
     "execution_count": 18,
     "metadata": {},
     "output_type": "execute_result"
    }
   ],
   "source": [
    "df['bat_team'].unique()"
   ]
  },
  {
   "cell_type": "markdown",
   "id": "fd16ef6a",
   "metadata": {},
   "source": [
    "- in the bat_team column Rising Pune Supergiants and Rising Pune Supergiant is the same team. lets replace it and make it one."
   ]
  },
  {
   "cell_type": "code",
   "execution_count": 19,
   "id": "86736982",
   "metadata": {},
   "outputs": [],
   "source": [
    "df['bat_team'].replace('Rising Pune Supergiant','Rising Pune Supergiants', inplace=True)"
   ]
  },
  {
   "cell_type": "markdown",
   "id": "2e892109",
   "metadata": {},
   "source": [
    "-We Will consider only playing teams as on 2023 IPL. \n",
    "- we will drop teams like [Rising Pune Supergiants,Deccan Chargers,Kochi Tuskers Kerala,Pune Warriors, Gujarat Lions\n",
    "- We'll drop Gujarat lions it joined the IPL on 2016 and out Dataset is available only till 2017, Lack of Data about GJ L.\n",
    "- we will make a new variable and store the current playing teams"
   ]
  },
  {
   "cell_type": "code",
   "execution_count": 20,
   "id": "df3a02ad",
   "metadata": {},
   "outputs": [],
   "source": [
    "Playing_Teams = ['Kolkata Knight Riders', 'Chennai Super Kings', 'Rajasthan Royals',\n",
    "       'Mumbai Indians','Kings XI Punjab','Royal Challengers Bangalore', 'Delhi Daredevils','Sunrisers Hyderabad']"
   ]
  },
  {
   "cell_type": "code",
   "execution_count": 21,
   "id": "d2e2a42b",
   "metadata": {},
   "outputs": [],
   "source": [
    "df = df[(df['bat_team'].isin(Playing_Teams)) & (df['bowl_team'].isin(Playing_Teams))]"
   ]
  },
  {
   "cell_type": "code",
   "execution_count": 22,
   "id": "1a9490ba",
   "metadata": {},
   "outputs": [
    {
     "data": {
      "text/plain": [
       "(53811, 8)"
      ]
     },
     "execution_count": 22,
     "metadata": {},
     "output_type": "execute_result"
    }
   ],
   "source": [
    "df.shape     # After keeping only playing teams data, now we have 53811 rows and 8 columns"
   ]
  },
  {
   "cell_type": "code",
   "execution_count": 23,
   "id": "e7f5d14a",
   "metadata": {},
   "outputs": [
    {
     "data": {
      "text/html": [
       "<div>\n",
       "<style scoped>\n",
       "    .dataframe tbody tr th:only-of-type {\n",
       "        vertical-align: middle;\n",
       "    }\n",
       "\n",
       "    .dataframe tbody tr th {\n",
       "        vertical-align: top;\n",
       "    }\n",
       "\n",
       "    .dataframe thead th {\n",
       "        text-align: right;\n",
       "    }\n",
       "</style>\n",
       "<table border=\"1\" class=\"dataframe\">\n",
       "  <thead>\n",
       "    <tr style=\"text-align: right;\">\n",
       "      <th></th>\n",
       "      <th>bat_team</th>\n",
       "      <th>bowl_team</th>\n",
       "      <th>runs</th>\n",
       "      <th>wickets</th>\n",
       "      <th>overs</th>\n",
       "      <th>runs_last_5overs</th>\n",
       "      <th>wickets_last_5over</th>\n",
       "      <th>total</th>\n",
       "    </tr>\n",
       "  </thead>\n",
       "  <tbody>\n",
       "    <tr>\n",
       "      <th>0</th>\n",
       "      <td>Kolkata Knight Riders</td>\n",
       "      <td>Royal Challengers Bangalore</td>\n",
       "      <td>1</td>\n",
       "      <td>0</td>\n",
       "      <td>0.1</td>\n",
       "      <td>1</td>\n",
       "      <td>0</td>\n",
       "      <td>222</td>\n",
       "    </tr>\n",
       "    <tr>\n",
       "      <th>1</th>\n",
       "      <td>Kolkata Knight Riders</td>\n",
       "      <td>Royal Challengers Bangalore</td>\n",
       "      <td>1</td>\n",
       "      <td>0</td>\n",
       "      <td>0.2</td>\n",
       "      <td>1</td>\n",
       "      <td>0</td>\n",
       "      <td>222</td>\n",
       "    </tr>\n",
       "    <tr>\n",
       "      <th>2</th>\n",
       "      <td>Kolkata Knight Riders</td>\n",
       "      <td>Royal Challengers Bangalore</td>\n",
       "      <td>2</td>\n",
       "      <td>0</td>\n",
       "      <td>0.2</td>\n",
       "      <td>2</td>\n",
       "      <td>0</td>\n",
       "      <td>222</td>\n",
       "    </tr>\n",
       "    <tr>\n",
       "      <th>3</th>\n",
       "      <td>Kolkata Knight Riders</td>\n",
       "      <td>Royal Challengers Bangalore</td>\n",
       "      <td>2</td>\n",
       "      <td>0</td>\n",
       "      <td>0.3</td>\n",
       "      <td>2</td>\n",
       "      <td>0</td>\n",
       "      <td>222</td>\n",
       "    </tr>\n",
       "    <tr>\n",
       "      <th>4</th>\n",
       "      <td>Kolkata Knight Riders</td>\n",
       "      <td>Royal Challengers Bangalore</td>\n",
       "      <td>2</td>\n",
       "      <td>0</td>\n",
       "      <td>0.4</td>\n",
       "      <td>2</td>\n",
       "      <td>0</td>\n",
       "      <td>222</td>\n",
       "    </tr>\n",
       "    <tr>\n",
       "      <th>...</th>\n",
       "      <td>...</td>\n",
       "      <td>...</td>\n",
       "      <td>...</td>\n",
       "      <td>...</td>\n",
       "      <td>...</td>\n",
       "      <td>...</td>\n",
       "      <td>...</td>\n",
       "      <td>...</td>\n",
       "    </tr>\n",
       "    <tr>\n",
       "      <th>75884</th>\n",
       "      <td>Kolkata Knight Riders</td>\n",
       "      <td>Mumbai Indians</td>\n",
       "      <td>106</td>\n",
       "      <td>9</td>\n",
       "      <td>18.1</td>\n",
       "      <td>29</td>\n",
       "      <td>4</td>\n",
       "      <td>107</td>\n",
       "    </tr>\n",
       "    <tr>\n",
       "      <th>75885</th>\n",
       "      <td>Kolkata Knight Riders</td>\n",
       "      <td>Mumbai Indians</td>\n",
       "      <td>107</td>\n",
       "      <td>9</td>\n",
       "      <td>18.2</td>\n",
       "      <td>29</td>\n",
       "      <td>4</td>\n",
       "      <td>107</td>\n",
       "    </tr>\n",
       "    <tr>\n",
       "      <th>75886</th>\n",
       "      <td>Kolkata Knight Riders</td>\n",
       "      <td>Mumbai Indians</td>\n",
       "      <td>107</td>\n",
       "      <td>9</td>\n",
       "      <td>18.3</td>\n",
       "      <td>28</td>\n",
       "      <td>4</td>\n",
       "      <td>107</td>\n",
       "    </tr>\n",
       "    <tr>\n",
       "      <th>75887</th>\n",
       "      <td>Kolkata Knight Riders</td>\n",
       "      <td>Mumbai Indians</td>\n",
       "      <td>107</td>\n",
       "      <td>9</td>\n",
       "      <td>18.4</td>\n",
       "      <td>24</td>\n",
       "      <td>4</td>\n",
       "      <td>107</td>\n",
       "    </tr>\n",
       "    <tr>\n",
       "      <th>75888</th>\n",
       "      <td>Kolkata Knight Riders</td>\n",
       "      <td>Mumbai Indians</td>\n",
       "      <td>107</td>\n",
       "      <td>10</td>\n",
       "      <td>18.5</td>\n",
       "      <td>23</td>\n",
       "      <td>5</td>\n",
       "      <td>107</td>\n",
       "    </tr>\n",
       "  </tbody>\n",
       "</table>\n",
       "<p>53811 rows × 8 columns</p>\n",
       "</div>"
      ],
      "text/plain": [
       "                    bat_team                    bowl_team  runs  wickets  \\\n",
       "0      Kolkata Knight Riders  Royal Challengers Bangalore     1        0   \n",
       "1      Kolkata Knight Riders  Royal Challengers Bangalore     1        0   \n",
       "2      Kolkata Knight Riders  Royal Challengers Bangalore     2        0   \n",
       "3      Kolkata Knight Riders  Royal Challengers Bangalore     2        0   \n",
       "4      Kolkata Knight Riders  Royal Challengers Bangalore     2        0   \n",
       "...                      ...                          ...   ...      ...   \n",
       "75884  Kolkata Knight Riders               Mumbai Indians   106        9   \n",
       "75885  Kolkata Knight Riders               Mumbai Indians   107        9   \n",
       "75886  Kolkata Knight Riders               Mumbai Indians   107        9   \n",
       "75887  Kolkata Knight Riders               Mumbai Indians   107        9   \n",
       "75888  Kolkata Knight Riders               Mumbai Indians   107       10   \n",
       "\n",
       "       overs  runs_last_5overs  wickets_last_5over  total  \n",
       "0        0.1                 1                   0    222  \n",
       "1        0.2                 1                   0    222  \n",
       "2        0.2                 2                   0    222  \n",
       "3        0.3                 2                   0    222  \n",
       "4        0.4                 2                   0    222  \n",
       "...      ...               ...                 ...    ...  \n",
       "75884   18.1                29                   4    107  \n",
       "75885   18.2                29                   4    107  \n",
       "75886   18.3                28                   4    107  \n",
       "75887   18.4                24                   4    107  \n",
       "75888   18.5                23                   5    107  \n",
       "\n",
       "[53811 rows x 8 columns]"
      ]
     },
     "execution_count": 23,
     "metadata": {},
     "output_type": "execute_result"
    }
   ],
   "source": [
    "df"
   ]
  },
  {
   "cell_type": "markdown",
   "id": "b1de3676",
   "metadata": {},
   "source": [
    "- We will try to predict the 20 Overs score of the Batting Team.\n",
    "- We cannot predict the score at the start of the match, hence we will erase first 5 Overs records of every match."
   ]
  },
  {
   "cell_type": "code",
   "execution_count": 24,
   "id": "63912168",
   "metadata": {},
   "outputs": [
    {
     "data": {
      "text/html": [
       "<div>\n",
       "<style scoped>\n",
       "    .dataframe tbody tr th:only-of-type {\n",
       "        vertical-align: middle;\n",
       "    }\n",
       "\n",
       "    .dataframe tbody tr th {\n",
       "        vertical-align: top;\n",
       "    }\n",
       "\n",
       "    .dataframe thead th {\n",
       "        text-align: right;\n",
       "    }\n",
       "</style>\n",
       "<table border=\"1\" class=\"dataframe\">\n",
       "  <thead>\n",
       "    <tr style=\"text-align: right;\">\n",
       "      <th></th>\n",
       "      <th>bat_team</th>\n",
       "      <th>bowl_team</th>\n",
       "      <th>runs</th>\n",
       "      <th>wickets</th>\n",
       "      <th>overs</th>\n",
       "      <th>runs_last_5overs</th>\n",
       "      <th>wickets_last_5over</th>\n",
       "      <th>total</th>\n",
       "    </tr>\n",
       "  </thead>\n",
       "  <tbody>\n",
       "    <tr>\n",
       "      <th>32</th>\n",
       "      <td>Kolkata Knight Riders</td>\n",
       "      <td>Royal Challengers Bangalore</td>\n",
       "      <td>61</td>\n",
       "      <td>0</td>\n",
       "      <td>5.1</td>\n",
       "      <td>59</td>\n",
       "      <td>0</td>\n",
       "      <td>222</td>\n",
       "    </tr>\n",
       "    <tr>\n",
       "      <th>33</th>\n",
       "      <td>Kolkata Knight Riders</td>\n",
       "      <td>Royal Challengers Bangalore</td>\n",
       "      <td>61</td>\n",
       "      <td>1</td>\n",
       "      <td>5.2</td>\n",
       "      <td>59</td>\n",
       "      <td>1</td>\n",
       "      <td>222</td>\n",
       "    </tr>\n",
       "    <tr>\n",
       "      <th>34</th>\n",
       "      <td>Kolkata Knight Riders</td>\n",
       "      <td>Royal Challengers Bangalore</td>\n",
       "      <td>61</td>\n",
       "      <td>1</td>\n",
       "      <td>5.3</td>\n",
       "      <td>59</td>\n",
       "      <td>1</td>\n",
       "      <td>222</td>\n",
       "    </tr>\n",
       "    <tr>\n",
       "      <th>35</th>\n",
       "      <td>Kolkata Knight Riders</td>\n",
       "      <td>Royal Challengers Bangalore</td>\n",
       "      <td>61</td>\n",
       "      <td>1</td>\n",
       "      <td>5.4</td>\n",
       "      <td>59</td>\n",
       "      <td>1</td>\n",
       "      <td>222</td>\n",
       "    </tr>\n",
       "    <tr>\n",
       "      <th>36</th>\n",
       "      <td>Kolkata Knight Riders</td>\n",
       "      <td>Royal Challengers Bangalore</td>\n",
       "      <td>61</td>\n",
       "      <td>1</td>\n",
       "      <td>5.5</td>\n",
       "      <td>58</td>\n",
       "      <td>1</td>\n",
       "      <td>222</td>\n",
       "    </tr>\n",
       "    <tr>\n",
       "      <th>...</th>\n",
       "      <td>...</td>\n",
       "      <td>...</td>\n",
       "      <td>...</td>\n",
       "      <td>...</td>\n",
       "      <td>...</td>\n",
       "      <td>...</td>\n",
       "      <td>...</td>\n",
       "      <td>...</td>\n",
       "    </tr>\n",
       "    <tr>\n",
       "      <th>75884</th>\n",
       "      <td>Kolkata Knight Riders</td>\n",
       "      <td>Mumbai Indians</td>\n",
       "      <td>106</td>\n",
       "      <td>9</td>\n",
       "      <td>18.1</td>\n",
       "      <td>29</td>\n",
       "      <td>4</td>\n",
       "      <td>107</td>\n",
       "    </tr>\n",
       "    <tr>\n",
       "      <th>75885</th>\n",
       "      <td>Kolkata Knight Riders</td>\n",
       "      <td>Mumbai Indians</td>\n",
       "      <td>107</td>\n",
       "      <td>9</td>\n",
       "      <td>18.2</td>\n",
       "      <td>29</td>\n",
       "      <td>4</td>\n",
       "      <td>107</td>\n",
       "    </tr>\n",
       "    <tr>\n",
       "      <th>75886</th>\n",
       "      <td>Kolkata Knight Riders</td>\n",
       "      <td>Mumbai Indians</td>\n",
       "      <td>107</td>\n",
       "      <td>9</td>\n",
       "      <td>18.3</td>\n",
       "      <td>28</td>\n",
       "      <td>4</td>\n",
       "      <td>107</td>\n",
       "    </tr>\n",
       "    <tr>\n",
       "      <th>75887</th>\n",
       "      <td>Kolkata Knight Riders</td>\n",
       "      <td>Mumbai Indians</td>\n",
       "      <td>107</td>\n",
       "      <td>9</td>\n",
       "      <td>18.4</td>\n",
       "      <td>24</td>\n",
       "      <td>4</td>\n",
       "      <td>107</td>\n",
       "    </tr>\n",
       "    <tr>\n",
       "      <th>75888</th>\n",
       "      <td>Kolkata Knight Riders</td>\n",
       "      <td>Mumbai Indians</td>\n",
       "      <td>107</td>\n",
       "      <td>10</td>\n",
       "      <td>18.5</td>\n",
       "      <td>23</td>\n",
       "      <td>5</td>\n",
       "      <td>107</td>\n",
       "    </tr>\n",
       "  </tbody>\n",
       "</table>\n",
       "<p>40108 rows × 8 columns</p>\n",
       "</div>"
      ],
      "text/plain": [
       "                    bat_team                    bowl_team  runs  wickets  \\\n",
       "32     Kolkata Knight Riders  Royal Challengers Bangalore    61        0   \n",
       "33     Kolkata Knight Riders  Royal Challengers Bangalore    61        1   \n",
       "34     Kolkata Knight Riders  Royal Challengers Bangalore    61        1   \n",
       "35     Kolkata Knight Riders  Royal Challengers Bangalore    61        1   \n",
       "36     Kolkata Knight Riders  Royal Challengers Bangalore    61        1   \n",
       "...                      ...                          ...   ...      ...   \n",
       "75884  Kolkata Knight Riders               Mumbai Indians   106        9   \n",
       "75885  Kolkata Knight Riders               Mumbai Indians   107        9   \n",
       "75886  Kolkata Knight Riders               Mumbai Indians   107        9   \n",
       "75887  Kolkata Knight Riders               Mumbai Indians   107        9   \n",
       "75888  Kolkata Knight Riders               Mumbai Indians   107       10   \n",
       "\n",
       "       overs  runs_last_5overs  wickets_last_5over  total  \n",
       "32       5.1                59                   0    222  \n",
       "33       5.2                59                   1    222  \n",
       "34       5.3                59                   1    222  \n",
       "35       5.4                59                   1    222  \n",
       "36       5.5                58                   1    222  \n",
       "...      ...               ...                 ...    ...  \n",
       "75884   18.1                29                   4    107  \n",
       "75885   18.2                29                   4    107  \n",
       "75886   18.3                28                   4    107  \n",
       "75887   18.4                24                   4    107  \n",
       "75888   18.5                23                   5    107  \n",
       "\n",
       "[40108 rows x 8 columns]"
      ]
     },
     "execution_count": 24,
     "metadata": {},
     "output_type": "execute_result"
    }
   ],
   "source": [
    "df = df[df['overs'] >= 5.0]\n",
    "df"
   ]
  },
  {
   "cell_type": "code",
   "execution_count": 25,
   "id": "6eaa773c",
   "metadata": {},
   "outputs": [
    {
     "data": {
      "text/plain": [
       "(40108, 8)"
      ]
     },
     "execution_count": 25,
     "metadata": {},
     "output_type": "execute_result"
    }
   ],
   "source": [
    "df.shape    # after removing first 5 overs of every match,now we have 40108 rows."
   ]
  },
  {
   "cell_type": "code",
   "execution_count": 26,
   "id": "7a048ceb",
   "metadata": {},
   "outputs": [
    {
     "data": {
      "image/png": "[encoded data removed]",
      "text/plain": [
       "<Figure size 500x300 with 1 Axes>"
      ]
     },
     "metadata": {},
     "output_type": "display_data"
    }
   ],
   "source": [
    "# Lets check the Totalruns Distribution as we have removed unwanted data.           \n",
    "\n",
    "plt.figure(figsize=(5,3))\n",
    "sns.distplot(df['total'])\n",
    "plt.title(\"Total Runs Distribution \")\n",
    "plt.show()"
   ]
  },
  {
   "cell_type": "code",
   "execution_count": 27,
   "id": "1257520a",
   "metadata": {},
   "outputs": [
    {
     "data": {
      "image/png": "[encoded data removed]",
      "text/plain": [
       "<Figure size 500x300 with 1 Axes>"
      ]
     },
     "metadata": {},
     "output_type": "display_data"
    }
   ],
   "source": [
    "# Last5 overs runs Distribution\n",
    "\n",
    "plt.figure(figsize=(5,3))\n",
    "sns.distplot(df['runs_last_5overs'])\n",
    "plt.title(\"Runs last 5 Overs Distribution \")\n",
    "plt.show()"
   ]
  },
  {
   "cell_type": "code",
   "execution_count": 28,
   "id": "60ba4278",
   "metadata": {},
   "outputs": [
    {
     "data": {
      "text/html": [
       "<div>\n",
       "<style scoped>\n",
       "    .dataframe tbody tr th:only-of-type {\n",
       "        vertical-align: middle;\n",
       "    }\n",
       "\n",
       "    .dataframe tbody tr th {\n",
       "        vertical-align: top;\n",
       "    }\n",
       "\n",
       "    .dataframe thead th {\n",
       "        text-align: right;\n",
       "    }\n",
       "</style>\n",
       "<table border=\"1\" class=\"dataframe\">\n",
       "  <thead>\n",
       "    <tr style=\"text-align: right;\">\n",
       "      <th></th>\n",
       "      <th>bat_team</th>\n",
       "      <th>bowl_team</th>\n",
       "      <th>runs</th>\n",
       "      <th>wickets</th>\n",
       "      <th>overs</th>\n",
       "      <th>runs_last_5overs</th>\n",
       "      <th>wickets_last_5over</th>\n",
       "      <th>total</th>\n",
       "    </tr>\n",
       "  </thead>\n",
       "  <tbody>\n",
       "    <tr>\n",
       "      <th>32</th>\n",
       "      <td>Kolkata Knight Riders</td>\n",
       "      <td>Royal Challengers Bangalore</td>\n",
       "      <td>61</td>\n",
       "      <td>0</td>\n",
       "      <td>5.1</td>\n",
       "      <td>59</td>\n",
       "      <td>0</td>\n",
       "      <td>222</td>\n",
       "    </tr>\n",
       "    <tr>\n",
       "      <th>33</th>\n",
       "      <td>Kolkata Knight Riders</td>\n",
       "      <td>Royal Challengers Bangalore</td>\n",
       "      <td>61</td>\n",
       "      <td>1</td>\n",
       "      <td>5.2</td>\n",
       "      <td>59</td>\n",
       "      <td>1</td>\n",
       "      <td>222</td>\n",
       "    </tr>\n",
       "    <tr>\n",
       "      <th>34</th>\n",
       "      <td>Kolkata Knight Riders</td>\n",
       "      <td>Royal Challengers Bangalore</td>\n",
       "      <td>61</td>\n",
       "      <td>1</td>\n",
       "      <td>5.3</td>\n",
       "      <td>59</td>\n",
       "      <td>1</td>\n",
       "      <td>222</td>\n",
       "    </tr>\n",
       "    <tr>\n",
       "      <th>35</th>\n",
       "      <td>Kolkata Knight Riders</td>\n",
       "      <td>Royal Challengers Bangalore</td>\n",
       "      <td>61</td>\n",
       "      <td>1</td>\n",
       "      <td>5.4</td>\n",
       "      <td>59</td>\n",
       "      <td>1</td>\n",
       "      <td>222</td>\n",
       "    </tr>\n",
       "    <tr>\n",
       "      <th>36</th>\n",
       "      <td>Kolkata Knight Riders</td>\n",
       "      <td>Royal Challengers Bangalore</td>\n",
       "      <td>61</td>\n",
       "      <td>1</td>\n",
       "      <td>5.5</td>\n",
       "      <td>58</td>\n",
       "      <td>1</td>\n",
       "      <td>222</td>\n",
       "    </tr>\n",
       "  </tbody>\n",
       "</table>\n",
       "</div>"
      ],
      "text/plain": [
       "                 bat_team                    bowl_team  runs  wickets  overs  \\\n",
       "32  Kolkata Knight Riders  Royal Challengers Bangalore    61        0    5.1   \n",
       "33  Kolkata Knight Riders  Royal Challengers Bangalore    61        1    5.2   \n",
       "34  Kolkata Knight Riders  Royal Challengers Bangalore    61        1    5.3   \n",
       "35  Kolkata Knight Riders  Royal Challengers Bangalore    61        1    5.4   \n",
       "36  Kolkata Knight Riders  Royal Challengers Bangalore    61        1    5.5   \n",
       "\n",
       "    runs_last_5overs  wickets_last_5over  total  \n",
       "32                59                   0    222  \n",
       "33                59                   1    222  \n",
       "34                59                   1    222  \n",
       "35                59                   1    222  \n",
       "36                58                   1    222  "
      ]
     },
     "execution_count": 28,
     "metadata": {},
     "output_type": "execute_result"
    }
   ],
   "source": [
    "df.head()"
   ]
  },
  {
   "cell_type": "code",
   "execution_count": 29,
   "id": "7547c44f",
   "metadata": {},
   "outputs": [
    {
     "data": {
      "text/html": [
       "<div>\n",
       "<style scoped>\n",
       "    .dataframe tbody tr th:only-of-type {\n",
       "        vertical-align: middle;\n",
       "    }\n",
       "\n",
       "    .dataframe tbody tr th {\n",
       "        vertical-align: top;\n",
       "    }\n",
       "\n",
       "    .dataframe thead th {\n",
       "        text-align: right;\n",
       "    }\n",
       "</style>\n",
       "<table border=\"1\" class=\"dataframe\">\n",
       "  <thead>\n",
       "    <tr style=\"text-align: right;\">\n",
       "      <th></th>\n",
       "      <th>bat_team</th>\n",
       "      <th>bowl_team</th>\n",
       "      <th>runs</th>\n",
       "      <th>wickets</th>\n",
       "      <th>overs</th>\n",
       "      <th>runs_last_5overs</th>\n",
       "      <th>wickets_last_5over</th>\n",
       "      <th>total</th>\n",
       "    </tr>\n",
       "  </thead>\n",
       "  <tbody>\n",
       "    <tr>\n",
       "      <th>32</th>\n",
       "      <td>3</td>\n",
       "      <td>6</td>\n",
       "      <td>61</td>\n",
       "      <td>0</td>\n",
       "      <td>5.1</td>\n",
       "      <td>59</td>\n",
       "      <td>0</td>\n",
       "      <td>222</td>\n",
       "    </tr>\n",
       "    <tr>\n",
       "      <th>33</th>\n",
       "      <td>3</td>\n",
       "      <td>6</td>\n",
       "      <td>61</td>\n",
       "      <td>1</td>\n",
       "      <td>5.2</td>\n",
       "      <td>59</td>\n",
       "      <td>1</td>\n",
       "      <td>222</td>\n",
       "    </tr>\n",
       "    <tr>\n",
       "      <th>34</th>\n",
       "      <td>3</td>\n",
       "      <td>6</td>\n",
       "      <td>61</td>\n",
       "      <td>1</td>\n",
       "      <td>5.3</td>\n",
       "      <td>59</td>\n",
       "      <td>1</td>\n",
       "      <td>222</td>\n",
       "    </tr>\n",
       "    <tr>\n",
       "      <th>35</th>\n",
       "      <td>3</td>\n",
       "      <td>6</td>\n",
       "      <td>61</td>\n",
       "      <td>1</td>\n",
       "      <td>5.4</td>\n",
       "      <td>59</td>\n",
       "      <td>1</td>\n",
       "      <td>222</td>\n",
       "    </tr>\n",
       "    <tr>\n",
       "      <th>36</th>\n",
       "      <td>3</td>\n",
       "      <td>6</td>\n",
       "      <td>61</td>\n",
       "      <td>1</td>\n",
       "      <td>5.5</td>\n",
       "      <td>58</td>\n",
       "      <td>1</td>\n",
       "      <td>222</td>\n",
       "    </tr>\n",
       "  </tbody>\n",
       "</table>\n",
       "</div>"
      ],
      "text/plain": [
       "    bat_team  bowl_team  runs  wickets  overs  runs_last_5overs  \\\n",
       "32         3          6    61        0    5.1                59   \n",
       "33         3          6    61        1    5.2                59   \n",
       "34         3          6    61        1    5.3                59   \n",
       "35         3          6    61        1    5.4                59   \n",
       "36         3          6    61        1    5.5                58   \n",
       "\n",
       "    wickets_last_5over  total  \n",
       "32                   0    222  \n",
       "33                   1    222  \n",
       "34                   1    222  \n",
       "35                   1    222  \n",
       "36                   1    222  "
      ]
     },
     "execution_count": 29,
     "metadata": {},
     "output_type": "execute_result"
    }
   ],
   "source": [
    "# lest encode the categorical data\n",
    "\n",
    "le = LabelEncoder()\n",
    "for i in ['bat_team','bowl_team']:\n",
    "    df[i] = le.fit_transform(df[i])\n",
    "df.head()\n",
    "                            "
   ]
  },
  {
   "cell_type": "code",
   "execution_count": 30,
   "id": "fd16ec4c",
   "metadata": {},
   "outputs": [
    {
     "name": "stdout",
     "output_type": "stream",
     "text": [
      "Encoded Teams:\n",
      "{'Chennai Super Kings': 0, 'Delhi Daredevils': 1, 'Kings XI Punjab': 2, 'Kolkata Knight Riders': 3, 'Mumbai Indians': 4, 'Rajasthan Royals': 5, 'Royal Challengers Bangalore': 6, 'Sunrisers Hyderabad': 7}\n"
     ]
    }
   ],
   "source": [
    "print(\"Encoded Teams:\")\n",
    "print(dict(zip(le.classes_, le.transform(le.classes_))))"
   ]
  },
  {
   "cell_type": "code",
   "execution_count": 31,
   "id": "a32e30b7",
   "metadata": {},
   "outputs": [],
   "source": [
    "# lets segregate data into x and y\n",
    "\n",
    "x = df.drop('total',axis=1)    # features\n",
    "y = df['total']            # Target "
   ]
  },
  {
   "cell_type": "code",
   "execution_count": 32,
   "id": "a045e434",
   "metadata": {},
   "outputs": [
    {
     "name": "stdout",
     "output_type": "stream",
     "text": [
      "Shape of x: (40108, 7)\n",
      "Shape of y: (40108,)\n"
     ]
    }
   ],
   "source": [
    "print(\"Shape of x:\", x.shape)\n",
    "print(\"Shape of y:\", y.shape)"
   ]
  },
  {
   "cell_type": "code",
   "execution_count": 33,
   "id": "67a854bb",
   "metadata": {},
   "outputs": [
    {
     "data": {
      "text/html": [
       "<div>\n",
       "<style scoped>\n",
       "    .dataframe tbody tr th:only-of-type {\n",
       "        vertical-align: middle;\n",
       "    }\n",
       "\n",
       "    .dataframe tbody tr th {\n",
       "        vertical-align: top;\n",
       "    }\n",
       "\n",
       "    .dataframe thead th {\n",
       "        text-align: right;\n",
       "    }\n",
       "</style>\n",
       "<table border=\"1\" class=\"dataframe\">\n",
       "  <thead>\n",
       "    <tr style=\"text-align: right;\">\n",
       "      <th></th>\n",
       "      <th>bat_team</th>\n",
       "      <th>bowl_team</th>\n",
       "      <th>runs</th>\n",
       "      <th>wickets</th>\n",
       "      <th>overs</th>\n",
       "      <th>runs_last_5overs</th>\n",
       "      <th>wickets_last_5over</th>\n",
       "    </tr>\n",
       "  </thead>\n",
       "  <tbody>\n",
       "    <tr>\n",
       "      <th>32</th>\n",
       "      <td>3</td>\n",
       "      <td>6</td>\n",
       "      <td>61</td>\n",
       "      <td>0</td>\n",
       "      <td>5.1</td>\n",
       "      <td>59</td>\n",
       "      <td>0</td>\n",
       "    </tr>\n",
       "    <tr>\n",
       "      <th>33</th>\n",
       "      <td>3</td>\n",
       "      <td>6</td>\n",
       "      <td>61</td>\n",
       "      <td>1</td>\n",
       "      <td>5.2</td>\n",
       "      <td>59</td>\n",
       "      <td>1</td>\n",
       "    </tr>\n",
       "    <tr>\n",
       "      <th>34</th>\n",
       "      <td>3</td>\n",
       "      <td>6</td>\n",
       "      <td>61</td>\n",
       "      <td>1</td>\n",
       "      <td>5.3</td>\n",
       "      <td>59</td>\n",
       "      <td>1</td>\n",
       "    </tr>\n",
       "    <tr>\n",
       "      <th>35</th>\n",
       "      <td>3</td>\n",
       "      <td>6</td>\n",
       "      <td>61</td>\n",
       "      <td>1</td>\n",
       "      <td>5.4</td>\n",
       "      <td>59</td>\n",
       "      <td>1</td>\n",
       "    </tr>\n",
       "    <tr>\n",
       "      <th>36</th>\n",
       "      <td>3</td>\n",
       "      <td>6</td>\n",
       "      <td>61</td>\n",
       "      <td>1</td>\n",
       "      <td>5.5</td>\n",
       "      <td>58</td>\n",
       "      <td>1</td>\n",
       "    </tr>\n",
       "    <tr>\n",
       "      <th>...</th>\n",
       "      <td>...</td>\n",
       "      <td>...</td>\n",
       "      <td>...</td>\n",
       "      <td>...</td>\n",
       "      <td>...</td>\n",
       "      <td>...</td>\n",
       "      <td>...</td>\n",
       "    </tr>\n",
       "    <tr>\n",
       "      <th>75884</th>\n",
       "      <td>3</td>\n",
       "      <td>4</td>\n",
       "      <td>106</td>\n",
       "      <td>9</td>\n",
       "      <td>18.1</td>\n",
       "      <td>29</td>\n",
       "      <td>4</td>\n",
       "    </tr>\n",
       "    <tr>\n",
       "      <th>75885</th>\n",
       "      <td>3</td>\n",
       "      <td>4</td>\n",
       "      <td>107</td>\n",
       "      <td>9</td>\n",
       "      <td>18.2</td>\n",
       "      <td>29</td>\n",
       "      <td>4</td>\n",
       "    </tr>\n",
       "    <tr>\n",
       "      <th>75886</th>\n",
       "      <td>3</td>\n",
       "      <td>4</td>\n",
       "      <td>107</td>\n",
       "      <td>9</td>\n",
       "      <td>18.3</td>\n",
       "      <td>28</td>\n",
       "      <td>4</td>\n",
       "    </tr>\n",
       "    <tr>\n",
       "      <th>75887</th>\n",
       "      <td>3</td>\n",
       "      <td>4</td>\n",
       "      <td>107</td>\n",
       "      <td>9</td>\n",
       "      <td>18.4</td>\n",
       "      <td>24</td>\n",
       "      <td>4</td>\n",
       "    </tr>\n",
       "    <tr>\n",
       "      <th>75888</th>\n",
       "      <td>3</td>\n",
       "      <td>4</td>\n",
       "      <td>107</td>\n",
       "      <td>10</td>\n",
       "      <td>18.5</td>\n",
       "      <td>23</td>\n",
       "      <td>5</td>\n",
       "    </tr>\n",
       "  </tbody>\n",
       "</table>\n",
       "<p>40108 rows × 7 columns</p>\n",
       "</div>"
      ],
      "text/plain": [
       "       bat_team  bowl_team  runs  wickets  overs  runs_last_5overs  \\\n",
       "32            3          6    61        0    5.1                59   \n",
       "33            3          6    61        1    5.2                59   \n",
       "34            3          6    61        1    5.3                59   \n",
       "35            3          6    61        1    5.4                59   \n",
       "36            3          6    61        1    5.5                58   \n",
       "...         ...        ...   ...      ...    ...               ...   \n",
       "75884         3          4   106        9   18.1                29   \n",
       "75885         3          4   107        9   18.2                29   \n",
       "75886         3          4   107        9   18.3                28   \n",
       "75887         3          4   107        9   18.4                24   \n",
       "75888         3          4   107       10   18.5                23   \n",
       "\n",
       "       wickets_last_5over  \n",
       "32                      0  \n",
       "33                      1  \n",
       "34                      1  \n",
       "35                      1  \n",
       "36                      1  \n",
       "...                   ...  \n",
       "75884                   4  \n",
       "75885                   4  \n",
       "75886                   4  \n",
       "75887                   4  \n",
       "75888                   5  \n",
       "\n",
       "[40108 rows x 7 columns]"
      ]
     },
     "execution_count": 33,
     "metadata": {},
     "output_type": "execute_result"
    }
   ],
   "source": [
    "x"
   ]
  },
  {
   "cell_type": "markdown",
   "id": "9e287b1b",
   "metadata": {},
   "source": [
    "# Scaling"
   ]
  },
  {
   "cell_type": "code",
   "execution_count": 34,
   "id": "b91a7668",
   "metadata": {},
   "outputs": [],
   "source": [
    "sc = StandardScaler()\n",
    "x = sc.fit_transform(x)"
   ]
  },
  {
   "cell_type": "code",
   "execution_count": 35,
   "id": "e1bf01d9",
   "metadata": {},
   "outputs": [
    {
     "data": {
      "text/plain": [
       "array([[-0.14626422,  1.29985174, -0.82928351, ..., -1.66864359,\n",
       "         1.74832059, -1.23657225],\n",
       "       [-0.14626422,  1.29985174, -0.82928351, ..., -1.64551123,\n",
       "         1.74832059, -0.29551691],\n",
       "       [-0.14626422,  1.29985174, -0.82928351, ..., -1.62237886,\n",
       "         1.74832059, -0.29551691],\n",
       "       ...,\n",
       "       [-0.14626422,  0.35101237,  0.29358994, ...,  1.3848286 ,\n",
       "        -0.94647237,  2.52764913],\n",
       "       [-0.14626422,  0.35101237,  0.29358994, ...,  1.40796097,\n",
       "        -1.29418759,  2.52764913],\n",
       "       [-0.14626422,  0.35101237,  0.29358994, ...,  1.43109333,\n",
       "        -1.38111639,  3.46870447]])"
      ]
     },
     "execution_count": 35,
     "metadata": {},
     "output_type": "execute_result"
    }
   ],
   "source": [
    "x"
   ]
  },
  {
   "cell_type": "code",
   "execution_count": 36,
   "id": "639c2e69",
   "metadata": {},
   "outputs": [],
   "source": [
    "# Train_test_split\n",
    "\n",
    "xtrain,xtest,ytrain,ytest = train_test_split(x,y,test_size=0.2,random_state=42)"
   ]
  },
  {
   "cell_type": "code",
   "execution_count": 37,
   "id": "a3134567",
   "metadata": {},
   "outputs": [
    {
     "name": "stdout",
     "output_type": "stream",
     "text": [
      "Shape of xtrain  (32086, 7)\n",
      "Shape of ytrain  (32086,)\n"
     ]
    }
   ],
   "source": [
    "print(\"Shape of xtrain \", xtrain.shape)         # training data.\n",
    "print(\"Shape of ytrain \", ytrain.shape)"
   ]
  },
  {
   "cell_type": "markdown",
   "id": "2a483e12",
   "metadata": {},
   "source": [
    "# Model Building"
   ]
  },
  {
   "cell_type": "code",
   "execution_count": 38,
   "id": "cd66b6f3",
   "metadata": {},
   "outputs": [
    {
     "data": {
      "text/html": [
       "<style>#sk-container-id-1 {color: black;}#sk-container-id-1 pre{padding: 0;}#sk-container-id-1 div.sk-toggleable {background-color: white;}#sk-container-id-1 label.sk-toggleable__label {cursor: pointer;display: block;width: 100%;margin-bottom: 0;padding: 0.3em;box-sizing: border-box;text-align: center;}#sk-container-id-1 label.sk-toggleable__label-arrow:before {content: \"▸\";float: left;margin-right: 0.25em;color: #696969;}#sk-container-id-1 label.sk-toggleable__label-arrow:hover:before {color: black;}#sk-container-id-1 div.sk-estimator:hover label.sk-toggleable__label-arrow:before {color: black;}#sk-container-id-1 div.sk-toggleable__content {max-height: 0;max-width: 0;overflow: hidden;text-align: left;background-color: #f0f8ff;}#sk-container-id-1 div.sk-toggleable__content pre {margin: 0.2em;color: black;border-radius: 0.25em;background-color: #f0f8ff;}#sk-container-id-1 input.sk-toggleable__control:checked~div.sk-toggleable__content {max-height: 200px;max-width: 100%;overflow: auto;}#sk-container-id-1 input.sk-toggleable__control:checked~label.sk-toggleable__label-arrow:before {content: \"▾\";}#sk-container-id-1 div.sk-estimator input.sk-toggleable__control:checked~label.sk-toggleable__label {background-color: #d4ebff;}#sk-container-id-1 div.sk-label input.sk-toggleable__control:checked~label.sk-toggleable__label {background-color: #d4ebff;}#sk-container-id-1 input.sk-hidden--visually {border: 0;clip: rect(1px 1px 1px 1px);clip: rect(1px, 1px, 1px, 1px);height: 1px;margin: -1px;overflow: hidden;padding: 0;position: absolute;width: 1px;}#sk-container-id-1 div.sk-estimator {font-family: monospace;background-color: #f0f8ff;border: 1px dotted black;border-radius: 0.25em;box-sizing: border-box;margin-bottom: 0.5em;}#sk-container-id-1 div.sk-estimator:hover {background-color: #d4ebff;}#sk-container-id-1 div.sk-parallel-item::after {content: \"\";width: 100%;border-bottom: 1px solid gray;flex-grow: 1;}#sk-container-id-1 div.sk-label:hover label.sk-toggleable__label {background-color: #d4ebff;}#sk-container-id-1 div.sk-serial::before {content: \"\";position: absolute;border-left: 1px solid gray;box-sizing: border-box;top: 0;bottom: 0;left: 50%;z-index: 0;}#sk-container-id-1 div.sk-serial {display: flex;flex-direction: column;align-items: center;background-color: white;padding-right: 0.2em;padding-left: 0.2em;position: relative;}#sk-container-id-1 div.sk-item {position: relative;z-index: 1;}#sk-container-id-1 div.sk-parallel {display: flex;align-items: stretch;justify-content: center;background-color: white;position: relative;}#sk-container-id-1 div.sk-item::before, #sk-container-id-1 div.sk-parallel-item::before {content: \"\";position: absolute;border-left: 1px solid gray;box-sizing: border-box;top: 0;bottom: 0;left: 50%;z-index: -1;}#sk-container-id-1 div.sk-parallel-item {display: flex;flex-direction: column;z-index: 1;position: relative;background-color: white;}#sk-container-id-1 div.sk-parallel-item:first-child::after {align-self: flex-end;width: 50%;}#sk-container-id-1 div.sk-parallel-item:last-child::after {align-self: flex-start;width: 50%;}#sk-container-id-1 div.sk-parallel-item:only-child::after {width: 0;}#sk-container-id-1 div.sk-dashed-wrapped {border: 1px dashed gray;margin: 0 0.4em 0.5em 0.4em;box-sizing: border-box;padding-bottom: 0.4em;background-color: white;}#sk-container-id-1 div.sk-label label {font-family: monospace;font-weight: bold;display: inline-block;line-height: 1.2em;}#sk-container-id-1 div.sk-label-container {text-align: center;}#sk-container-id-1 div.sk-container {/* jupyter's `normalize.less` sets `[hidden] { display: none; }` but bootstrap.min.css set `[hidden] { display: none !important; }` so we also need the `!important` here to be able to override the default hidden behavior on the sphinx rendered scikit-learn.org. See: https://github.com/scikit-learn/scikit-learn/issues/21755 */display: inline-block !important;position: relative;}#sk-container-id-1 div.sk-text-repr-fallback {display: none;}</style><div id=\"sk-container-id-1\" class=\"sk-top-container\"><div class=\"sk-text-repr-fallback\"><pre>XGBRegressor(base_score=None, booster=None, callbacks=None,\n",
       "             colsample_bylevel=None, colsample_bynode=None,\n",
       "             colsample_bytree=None, device=None, early_stopping_rounds=None,\n",
       "             enable_categorical=False, eval_metric=None, feature_types=None,\n",
       "             gamma=None, grow_policy=None, importance_type=None,\n",
       "             interaction_constraints=None, learning_rate=None, max_bin=None,\n",
       "             max_cat_threshold=None, max_cat_to_onehot=None,\n",
       "             max_delta_step=None, max_depth=None, max_leaves=None,\n",
       "             min_child_weight=None, missing=nan, monotone_constraints=None,\n",
       "             multi_strategy=None, n_estimators=None, n_jobs=None,\n",
       "             num_parallel_tree=None, random_state=None, ...)</pre><b>In a Jupyter environment, please rerun this cell to show the HTML representation or trust the notebook. <br />On GitHub, the HTML representation is unable to render, please try loading this page with nbviewer.org.</b></div><div class=\"sk-container\" hidden><div class=\"sk-item\"><div class=\"sk-estimator sk-toggleable\"><input class=\"sk-toggleable__control sk-hidden--visually\" id=\"sk-estimator-id-1\" type=\"checkbox\" checked><label for=\"sk-estimator-id-1\" class=\"sk-toggleable__label sk-toggleable__label-arrow\">XGBRegressor</label><div class=\"sk-toggleable__content\"><pre>XGBRegressor(base_score=None, booster=None, callbacks=None,\n",
       "             colsample_bylevel=None, colsample_bynode=None,\n",
       "             colsample_bytree=None, device=None, early_stopping_rounds=None,\n",
       "             enable_categorical=False, eval_metric=None, feature_types=None,\n",
       "             gamma=None, grow_policy=None, importance_type=None,\n",
       "             interaction_constraints=None, learning_rate=None, max_bin=None,\n",
       "             max_cat_threshold=None, max_cat_to_onehot=None,\n",
       "             max_delta_step=None, max_depth=None, max_leaves=None,\n",
       "             min_child_weight=None, missing=nan, monotone_constraints=None,\n",
       "             multi_strategy=None, n_estimators=None, n_jobs=None,\n",
       "             num_parallel_tree=None, random_state=None, ...)</pre></div></div></div></div></div>"
      ],
      "text/plain": [
       "XGBRegressor(base_score=None, booster=None, callbacks=None,\n",
       "             colsample_bylevel=None, colsample_bynode=None,\n",
       "             colsample_bytree=None, device=None, early_stopping_rounds=None,\n",
       "             enable_categorical=False, eval_metric=None, feature_types=None,\n",
       "             gamma=None, grow_policy=None, importance_type=None,\n",
       "             interaction_constraints=None, learning_rate=None, max_bin=None,\n",
       "             max_cat_threshold=None, max_cat_to_onehot=None,\n",
       "             max_delta_step=None, max_depth=None, max_leaves=None,\n",
       "             min_child_weight=None, missing=nan, monotone_constraints=None,\n",
       "             multi_strategy=None, n_estimators=None, n_jobs=None,\n",
       "             num_parallel_tree=None, random_state=None, ...)"
      ]
     },
     "execution_count": 38,
     "metadata": {},
     "output_type": "execute_result"
    }
   ],
   "source": [
    "lr = LinearRegression()\n",
    "lr.fit(xtrain,ytrain)\n",
    "\n",
    "dtc = DecisionTreeRegressor()\n",
    "dtc.fit(xtrain,ytrain)\n",
    "\n",
    "rf = RandomForestRegressor()\n",
    "rf.fit(xtrain,ytrain)\n",
    "\n",
    "gb = GradientBoostingRegressor()\n",
    "gb.fit(xtrain,ytrain)\n",
    "\n",
    "knn = KNeighborsRegressor()\n",
    "knn.fit(xtrain,ytrain)\n",
    "\n",
    "xg = XGBRegressor()\n",
    "xg.fit(xtrain,ytrain)"
   ]
  },
  {
   "cell_type": "code",
   "execution_count": 39,
   "id": "958b99af",
   "metadata": {},
   "outputs": [],
   "source": [
    "ypred1 = lr.predict(xtest)\n",
    "\n",
    "ypred2 = dtc.predict(xtest)\n",
    "\n",
    "ypred3 = rf.predict(xtest)\n",
    "\n",
    "ypred4 = gb.predict(xtest)\n",
    "\n",
    "ypred5 = knn.predict(xtest)\n",
    "\n",
    "ypred6 = xg.predict(xtest)"
   ]
  },
  {
   "cell_type": "code",
   "execution_count": 40,
   "id": "8233d870",
   "metadata": {},
   "outputs": [],
   "source": [
    "# lets see the resut in data frame\n",
    "\n",
    "model_train = pd.DataFrame({'Actual': ytest,\n",
    "                           'Linear Reg': ypred1,\n",
    "                           'Decision Tree': ypred2,\n",
    "                           'Random Forest': ypred3,\n",
    "                           'Gradient Boost': ypred4,\n",
    "                           'KNN': ypred5,\n",
    "                           'XGBoost': ypred6})"
   ]
  },
  {
   "cell_type": "code",
   "execution_count": 41,
   "id": "eb9617dc",
   "metadata": {},
   "outputs": [
    {
     "data": {
      "text/html": [
       "<div>\n",
       "<style scoped>\n",
       "    .dataframe tbody tr th:only-of-type {\n",
       "        vertical-align: middle;\n",
       "    }\n",
       "\n",
       "    .dataframe tbody tr th {\n",
       "        vertical-align: top;\n",
       "    }\n",
       "\n",
       "    .dataframe thead th {\n",
       "        text-align: right;\n",
       "    }\n",
       "</style>\n",
       "<table border=\"1\" class=\"dataframe\">\n",
       "  <thead>\n",
       "    <tr style=\"text-align: right;\">\n",
       "      <th></th>\n",
       "      <th>Actual</th>\n",
       "      <th>Linear Reg</th>\n",
       "      <th>Decision Tree</th>\n",
       "      <th>Random Forest</th>\n",
       "      <th>Gradient Boost</th>\n",
       "      <th>KNN</th>\n",
       "      <th>XGBoost</th>\n",
       "    </tr>\n",
       "  </thead>\n",
       "  <tbody>\n",
       "    <tr>\n",
       "      <th>893</th>\n",
       "      <td>208</td>\n",
       "      <td>167.925122</td>\n",
       "      <td>208.0</td>\n",
       "      <td>200.81</td>\n",
       "      <td>163.799540</td>\n",
       "      <td>202.4</td>\n",
       "      <td>181.025391</td>\n",
       "    </tr>\n",
       "    <tr>\n",
       "      <th>53832</th>\n",
       "      <td>195</td>\n",
       "      <td>176.122327</td>\n",
       "      <td>195.0</td>\n",
       "      <td>188.55</td>\n",
       "      <td>177.528656</td>\n",
       "      <td>178.6</td>\n",
       "      <td>183.919022</td>\n",
       "    </tr>\n",
       "    <tr>\n",
       "      <th>55895</th>\n",
       "      <td>184</td>\n",
       "      <td>167.143791</td>\n",
       "      <td>152.0</td>\n",
       "      <td>166.55</td>\n",
       "      <td>172.918543</td>\n",
       "      <td>158.4</td>\n",
       "      <td>174.055847</td>\n",
       "    </tr>\n",
       "    <tr>\n",
       "      <th>20188</th>\n",
       "      <td>132</td>\n",
       "      <td>133.459191</td>\n",
       "      <td>132.0</td>\n",
       "      <td>133.37</td>\n",
       "      <td>127.768870</td>\n",
       "      <td>132.0</td>\n",
       "      <td>132.024216</td>\n",
       "    </tr>\n",
       "    <tr>\n",
       "      <th>16949</th>\n",
       "      <td>163</td>\n",
       "      <td>140.835995</td>\n",
       "      <td>163.0</td>\n",
       "      <td>162.76</td>\n",
       "      <td>151.314193</td>\n",
       "      <td>163.0</td>\n",
       "      <td>161.619492</td>\n",
       "    </tr>\n",
       "    <tr>\n",
       "      <th>...</th>\n",
       "      <td>...</td>\n",
       "      <td>...</td>\n",
       "      <td>...</td>\n",
       "      <td>...</td>\n",
       "      <td>...</td>\n",
       "      <td>...</td>\n",
       "      <td>...</td>\n",
       "    </tr>\n",
       "    <tr>\n",
       "      <th>61130</th>\n",
       "      <td>130</td>\n",
       "      <td>128.485609</td>\n",
       "      <td>130.0</td>\n",
       "      <td>129.86</td>\n",
       "      <td>119.530621</td>\n",
       "      <td>130.0</td>\n",
       "      <td>123.149849</td>\n",
       "    </tr>\n",
       "    <tr>\n",
       "      <th>48668</th>\n",
       "      <td>166</td>\n",
       "      <td>154.529805</td>\n",
       "      <td>166.0</td>\n",
       "      <td>157.04</td>\n",
       "      <td>157.753250</td>\n",
       "      <td>162.4</td>\n",
       "      <td>152.307983</td>\n",
       "    </tr>\n",
       "    <tr>\n",
       "      <th>25718</th>\n",
       "      <td>159</td>\n",
       "      <td>166.628704</td>\n",
       "      <td>165.0</td>\n",
       "      <td>162.69</td>\n",
       "      <td>166.444404</td>\n",
       "      <td>159.0</td>\n",
       "      <td>162.320465</td>\n",
       "    </tr>\n",
       "    <tr>\n",
       "      <th>54581</th>\n",
       "      <td>115</td>\n",
       "      <td>135.404381</td>\n",
       "      <td>115.0</td>\n",
       "      <td>117.50</td>\n",
       "      <td>126.312148</td>\n",
       "      <td>118.2</td>\n",
       "      <td>129.355774</td>\n",
       "    </tr>\n",
       "    <tr>\n",
       "      <th>6913</th>\n",
       "      <td>165</td>\n",
       "      <td>159.144331</td>\n",
       "      <td>165.0</td>\n",
       "      <td>161.94</td>\n",
       "      <td>165.294360</td>\n",
       "      <td>161.8</td>\n",
       "      <td>156.214676</td>\n",
       "    </tr>\n",
       "  </tbody>\n",
       "</table>\n",
       "<p>8022 rows × 7 columns</p>\n",
       "</div>"
      ],
      "text/plain": [
       "       Actual  Linear Reg  Decision Tree  Random Forest  Gradient Boost  \\\n",
       "893       208  167.925122          208.0         200.81      163.799540   \n",
       "53832     195  176.122327          195.0         188.55      177.528656   \n",
       "55895     184  167.143791          152.0         166.55      172.918543   \n",
       "20188     132  133.459191          132.0         133.37      127.768870   \n",
       "16949     163  140.835995          163.0         162.76      151.314193   \n",
       "...       ...         ...            ...            ...             ...   \n",
       "61130     130  128.485609          130.0         129.86      119.530621   \n",
       "48668     166  154.529805          166.0         157.04      157.753250   \n",
       "25718     159  166.628704          165.0         162.69      166.444404   \n",
       "54581     115  135.404381          115.0         117.50      126.312148   \n",
       "6913      165  159.144331          165.0         161.94      165.294360   \n",
       "\n",
       "         KNN     XGBoost  \n",
       "893    202.4  181.025391  \n",
       "53832  178.6  183.919022  \n",
       "55895  158.4  174.055847  \n",
       "20188  132.0  132.024216  \n",
       "16949  163.0  161.619492  \n",
       "...      ...         ...  \n",
       "61130  130.0  123.149849  \n",
       "48668  162.4  152.307983  \n",
       "25718  159.0  162.320465  \n",
       "54581  118.2  129.355774  \n",
       "6913   161.8  156.214676  \n",
       "\n",
       "[8022 rows x 7 columns]"
      ]
     },
     "execution_count": 41,
     "metadata": {},
     "output_type": "execute_result"
    }
   ],
   "source": [
    "model_train"
   ]
  },
  {
   "cell_type": "code",
   "execution_count": 42,
   "id": "32afc046",
   "metadata": {},
   "outputs": [
    {
     "data": {
      "image/png": "[encoded data removed]",
      "text/plain": [
       "<Figure size 600x300 with 1 Axes>"
      ]
     },
     "metadata": {},
     "output_type": "display_data"
    },
    {
     "data": {
      "image/png": "[encoded data removed]",
      "text/plain": [
       "<Figure size 600x200 with 1 Axes>"
      ]
     },
     "metadata": {},
     "output_type": "display_data"
    },
    {
     "data": {
      "image/png": "[encoded data removed]",
      "text/plain": [
       "<Figure size 600x200 with 1 Axes>"
      ]
     },
     "metadata": {},
     "output_type": "display_data"
    },
    {
     "data": {
      "image/png": "[encoded data removed]",
      "text/plain": [
       "<Figure size 600x200 with 1 Axes>"
      ]
     },
     "metadata": {},
     "output_type": "display_data"
    },
    {
     "data": {
      "image/png": "[encoded data removed]",
      "text/plain": [
       "<Figure size 600x200 with 1 Axes>"
      ]
     },
     "metadata": {},
     "output_type": "display_data"
    },
    {
     "data": {
      "image/png": "[encoded data removed]",
      "text/plain": [
       "<Figure size 600x200 with 1 Axes>"
      ]
     },
     "metadata": {},
     "output_type": "display_data"
    }
   ],
   "source": [
    "# lets check the prediction visually \n",
    "\n",
    "plt.figure(figsize=(6,3))\n",
    "plt.plot(model_train['Actual'].iloc[:10], label = 'Actual',marker='o')\n",
    "plt.plot(model_train['Linear Reg'].iloc[:10],label='Linear Reg', marker='o')\n",
    "plt.legend()\n",
    "plt.show()\n",
    "\n",
    "plt.figure(figsize=(6,2))\n",
    "plt.plot(model_train['Actual'].iloc[:10], label = 'Actual',marker='o')\n",
    "plt.plot(model_train['Decision Tree'].iloc[:10],label='Decision Tree',marker='o')\n",
    "plt.legend()\n",
    "plt.show()\n",
    "\n",
    "plt.figure(figsize=(6,2))\n",
    "plt.plot(model_train['Actual'].iloc[:10], label = 'Actual',marker='o')\n",
    "plt.plot(model_train['Random Forest'].iloc[:10],label='Random Forest',marker='o')\n",
    "plt.legend()\n",
    "plt.show()\n",
    "\n",
    "plt.figure(figsize=(6,2))\n",
    "plt.plot(model_train['Actual'].iloc[:10], label = 'Actual',marker='o')\n",
    "plt.plot(model_train['Gradient Boost'].iloc[:10],label='Gradient Boost',marker='o')\n",
    "plt.legend()\n",
    "plt.show()\n",
    "\n",
    "plt.figure(figsize=(6,2))\n",
    "plt.plot(model_train['Actual'].iloc[:10], label = 'Actual',marker='o')\n",
    "plt.plot(model_train['KNN'].iloc[:10],label='KNN',marker='o')\n",
    "plt.legend()\n",
    "plt.show()\n",
    "\n",
    "plt.figure(figsize=(6,2))\n",
    "plt.plot(model_train['Actual'].iloc[:10], label = 'Actual',marker='o')\n",
    "plt.plot(model_train['XGBoost'].iloc[:10],label='XGBoost',marker='o')\n",
    "plt.legend()\n",
    "plt.show()"
   ]
  },
  {
   "cell_type": "code",
   "execution_count": 43,
   "id": "9caacf0f",
   "metadata": {},
   "outputs": [
    {
     "name": "stdout",
     "output_type": "stream",
     "text": [
      "Linear Reg r2_score: 0.658520592382071\n",
      "Decision Tree r2_score: 0.8548518644326715\n",
      "Random Forest r2_score: 0.9278741204790877\n",
      "Gradient Boost r2_score: 0.6912323440485824\n",
      "KNN r2_score: 0.9268488275958466\n",
      "XGBoost r2_score: 0.8434557438494936\n"
     ]
    }
   ],
   "source": [
    "# lets check the r2_score of the models.\n",
    "\n",
    "score1 = metrics.r2_score(ytest,ypred1)\n",
    "score2 = metrics.r2_score(ytest,ypred2)\n",
    "score3 = metrics.r2_score(ytest,ypred3)\n",
    "score4 = metrics.r2_score(ytest,ypred4)\n",
    "score5 = metrics.r2_score(ytest,ypred5)\n",
    "score6 = metrics.r2_score(ytest,ypred6)\n",
    "\n",
    "print(\"Linear Reg r2_score:\", score1)\n",
    "print(\"Decision Tree r2_score:\", score2)\n",
    "print(\"Random Forest r2_score:\", score3)\n",
    "print(\"Gradient Boost r2_score:\", score4)\n",
    "print(\"KNN r2_score:\", score5)\n",
    "print(\"XGBoost r2_score:\", score6)"
   ]
  },
  {
   "cell_type": "markdown",
   "id": "a68dca15",
   "metadata": {},
   "source": [
    "- Highest Accuracy = 92.71% with Random Forest Model followed by KNN"
   ]
  },
  {
   "cell_type": "code",
   "execution_count": 44,
   "id": "5b3f56e5",
   "metadata": {},
   "outputs": [
    {
     "name": "stdout",
     "output_type": "stream",
     "text": [
      "Linear Reg MAE: 12.999855786432652\n",
      "Decision Tree MAE: 4.210732984293194\n",
      "Random Forest MAE: 4.8059834858899935\n",
      "Gradient Boost MAE: 12.422794103481136\n",
      "KNN MAE: 3.4395661929693344\n",
      "XGBoost MAE: 8.521361202885759\n"
     ]
    }
   ],
   "source": [
    "# Let check MAE - The lowest MAW score means our model is performing good\n",
    "\n",
    "s1 = metrics.mean_absolute_error(ytest,ypred1)\n",
    "s4 = metrics.mean_absolute_error(ytest,ypred2)\n",
    "s5 = metrics.mean_absolute_error(ytest,ypred3)\n",
    "s6 = metrics.mean_absolute_error(ytest,ypred4)\n",
    "s7 = metrics.mean_absolute_error(ytest,ypred5)\n",
    "s8 = metrics.mean_absolute_error(ytest,ypred6)\n",
    "\n",
    "print(\"Linear Reg MAE:\", s1)\n",
    "print(\"Decision Tree MAE:\", s4)\n",
    "print(\"Random Forest MAE:\", s5)\n",
    "print(\"Gradient Boost MAE:\", s6)\n",
    "print(\"KNN MAE:\", s7)\n",
    "print(\"XGBoost MAE:\", s8)"
   ]
  },
  {
   "cell_type": "code",
   "execution_count": 45,
   "id": "5718806c",
   "metadata": {},
   "outputs": [
    {
     "name": "stdout",
     "output_type": "stream",
     "text": [
      "Linear Reg MSE: 12.999855786432652\n",
      "Decision Tree MSE: 4.210732984293194\n",
      "Random Forest MSE: 4.8059834858899935\n",
      "Gradient Boost MSE: 12.422794103481136\n",
      "KNN MSE: 3.4395661929693344\n",
      "XGBoost MSE: 8.521361202885759\n"
     ]
    }
   ],
   "source": [
    "# MSE - Mean Squared Error \n",
    "\n",
    "m1 = metrics.mean_absolute_error(ytest,ypred1)\n",
    "m2 = metrics.mean_absolute_error(ytest,ypred2)\n",
    "m3 = metrics.mean_absolute_error(ytest,ypred3)\n",
    "m4 = metrics.mean_absolute_error(ytest,ypred4)\n",
    "m5 = metrics.mean_absolute_error(ytest,ypred5)\n",
    "m6 = metrics.mean_absolute_error(ytest,ypred6)\n",
    "\n",
    "print(\"Linear Reg MSE:\", m1)\n",
    "print(\"Decision Tree MSE:\", m2)\n",
    "print(\"Random Forest MSE:\", m3)\n",
    "print(\"Gradient Boost MSE:\",m4)\n",
    "print(\"KNN MSE:\", m5)\n",
    "print(\"XGBoost MSE:\", m6)"
   ]
  },
  {
   "cell_type": "code",
   "execution_count": 46,
   "id": "9eb12a81",
   "metadata": {},
   "outputs": [
    {
     "name": "stdout",
     "output_type": "stream",
     "text": [
      "RMSE - Linear Reg 3.605531276584999\n",
      "RMSE - Decision Tree 2.052007062437455\n",
      "RMSE - Random Forest 2.192255342310743\n",
      "RMSE - Gradient Boost 3.5245984315211194\n",
      "RMSE - KNN  1.8546067488740934\n",
      "RMSE - XG Boost 2.919137064765161\n"
     ]
    }
   ],
   "source": [
    "# RMSE\n",
    "\n",
    "rm1 = np.sqrt(m1)\n",
    "rm2 = np.sqrt(m2)\n",
    "rm3 = np.sqrt(m3)\n",
    "rm4 = np.sqrt(m4)\n",
    "rm5 = np.sqrt(m5)\n",
    "rm6 = np.sqrt(m6)\n",
    "\n",
    "print(\"RMSE - Linear Reg\", rm1)\n",
    "print(\"RMSE - Decision Tree\", rm2)\n",
    "print(\"RMSE - Random Forest\", rm3)\n",
    "print(\"RMSE - Gradient Boost\", rm4)\n",
    "print(\"RMSE - KNN \", rm5)\n",
    "print(\"RMSE - XG Boost\", rm6)"
   ]
  },
  {
   "cell_type": "markdown",
   "id": "e4e9cc70",
   "metadata": {},
   "source": [
    "- The lowest MSE = Randomforest\n",
    "- Hihest Accuracy = Randomforest, we will check the final the Random Forest for deployment."
   ]
  },
  {
   "cell_type": "code",
   "execution_count": 58,
   "id": "9097b72f",
   "metadata": {},
   "outputs": [
    {
     "name": "stdout",
     "output_type": "stream",
     "text": [
      "MAE4.81500713514027 \n",
      "MSE:64.90541419615968 \n",
      "RMSE:8.05638965021924\n",
      "ACCURACY_SCORE:0.9273866240377449\n",
      "Training Score:0.989294567608012\n",
      "Testing Score:0.9273866240377449\n"
     ]
    }
   ],
   "source": [
    "# lets check the training and Testing Accuracy of the RandomForest Model\n",
    "\n",
    "rf2 = RandomForestRegressor()\n",
    "rf2.fit(xtrain,ytrain)\n",
    "pred = rf2.predict(xtest)\n",
    "\n",
    "# performance \n",
    "mae=mean_absolute_error(ytest,pred)\n",
    "mse=mean_squared_error(ytest,pred)\n",
    "r2=r2_score(ytest,pred)\n",
    "rmse=np.sqrt(mse)\n",
    "\n",
    "print(f\"MAE{mae} \\nMSE:{mse} \\nRMSE:{rmse}\\nACCURACY_SCORE:{r2}\")\n",
    "\n",
    "train = rf2.score(xtrain,ytrain)\n",
    "test = rf2.score(xtest,ytest)\n",
    "print(f\"Training Score:{train}\\nTesting Score:{test}\")"
   ]
  },
  {
   "cell_type": "markdown",
   "id": "6d2c1334",
   "metadata": {},
   "source": [
    "# Traning score = 98.93%\n",
    "# Testing Score = 92.73%"
   ]
  },
  {
   "cell_type": "code",
   "execution_count": 47,
   "id": "b4091180",
   "metadata": {},
   "outputs": [
    {
     "data": {
      "image/png": "[encoded data removed]",
      "text/plain": [
       "<Figure size 640x480 with 1 Axes>"
      ]
     },
     "metadata": {},
     "output_type": "display_data"
    }
   ],
   "source": [
    "# lets check the Antual and predicted data\n",
    "\n",
    "plt.scatter(ytest, ypred3)  \n",
    "plt.show()"
   ]
  },
  {
   "cell_type": "markdown",
   "id": "e8cae421",
   "metadata": {},
   "source": [
    "- here we can see that the actual and the predicted score are still makes a diagional line which means our RandomForest model is making good predictions."
   ]
  },
  {
   "cell_type": "code",
   "execution_count": 48,
   "id": "e5151b91",
   "metadata": {},
   "outputs": [
    {
     "data": {
      "text/html": [
       "<div>\n",
       "<style scoped>\n",
       "    .dataframe tbody tr th:only-of-type {\n",
       "        vertical-align: middle;\n",
       "    }\n",
       "\n",
       "    .dataframe tbody tr th {\n",
       "        vertical-align: top;\n",
       "    }\n",
       "\n",
       "    .dataframe thead th {\n",
       "        text-align: right;\n",
       "    }\n",
       "</style>\n",
       "<table border=\"1\" class=\"dataframe\">\n",
       "  <thead>\n",
       "    <tr style=\"text-align: right;\">\n",
       "      <th></th>\n",
       "      <th>bat_team</th>\n",
       "      <th>bowl_team</th>\n",
       "      <th>runs</th>\n",
       "      <th>wickets</th>\n",
       "      <th>overs</th>\n",
       "      <th>runs_last_5overs</th>\n",
       "      <th>wickets_last_5over</th>\n",
       "      <th>total</th>\n",
       "    </tr>\n",
       "  </thead>\n",
       "  <tbody>\n",
       "    <tr>\n",
       "      <th>53871</th>\n",
       "      <td>3</td>\n",
       "      <td>6</td>\n",
       "      <td>171</td>\n",
       "      <td>3</td>\n",
       "      <td>17.5</td>\n",
       "      <td>60</td>\n",
       "      <td>0</td>\n",
       "      <td>195</td>\n",
       "    </tr>\n",
       "    <tr>\n",
       "      <th>14314</th>\n",
       "      <td>5</td>\n",
       "      <td>1</td>\n",
       "      <td>112</td>\n",
       "      <td>5</td>\n",
       "      <td>16.4</td>\n",
       "      <td>39</td>\n",
       "      <td>1</td>\n",
       "      <td>141</td>\n",
       "    </tr>\n",
       "  </tbody>\n",
       "</table>\n",
       "</div>"
      ],
      "text/plain": [
       "       bat_team  bowl_team  runs  wickets  overs  runs_last_5overs  \\\n",
       "53871         3          6   171        3   17.5                60   \n",
       "14314         5          1   112        5   16.4                39   \n",
       "\n",
       "       wickets_last_5over  total  \n",
       "53871                   0    195  \n",
       "14314                   1    141  "
      ]
     },
     "execution_count": 48,
     "metadata": {},
     "output_type": "execute_result"
    }
   ],
   "source": [
    "df.sample(2)"
   ]
  },
  {
   "cell_type": "code",
   "execution_count": 49,
   "id": "f34ebbec",
   "metadata": {},
   "outputs": [
    {
     "data": {
      "text/html": [
       "<div>\n",
       "<style scoped>\n",
       "    .dataframe tbody tr th:only-of-type {\n",
       "        vertical-align: middle;\n",
       "    }\n",
       "\n",
       "    .dataframe tbody tr th {\n",
       "        vertical-align: top;\n",
       "    }\n",
       "\n",
       "    .dataframe thead th {\n",
       "        text-align: right;\n",
       "    }\n",
       "</style>\n",
       "<table border=\"1\" class=\"dataframe\">\n",
       "  <thead>\n",
       "    <tr style=\"text-align: right;\">\n",
       "      <th></th>\n",
       "      <th>bat_team</th>\n",
       "      <th>bowl_team</th>\n",
       "      <th>runs</th>\n",
       "      <th>wickets</th>\n",
       "      <th>overs</th>\n",
       "      <th>runs_last_5overs</th>\n",
       "      <th>wickets_last_5over</th>\n",
       "    </tr>\n",
       "  </thead>\n",
       "  <tbody>\n",
       "    <tr>\n",
       "      <th>0</th>\n",
       "      <td>6</td>\n",
       "      <td>7</td>\n",
       "      <td>48</td>\n",
       "      <td>1</td>\n",
       "      <td>5.4</td>\n",
       "      <td>43</td>\n",
       "      <td>1</td>\n",
       "    </tr>\n",
       "  </tbody>\n",
       "</table>\n",
       "</div>"
      ],
      "text/plain": [
       "   bat_team  bowl_team  runs  wickets  overs  runs_last_5overs  \\\n",
       "0         6          7    48        1    5.4                43   \n",
       "\n",
       "   wickets_last_5over  \n",
       "0                   1  "
      ]
     },
     "execution_count": 49,
     "metadata": {},
     "output_type": "execute_result"
    }
   ],
   "source": [
    "# we will create a small data in python dictionary\n",
    "\n",
    "data = {'bat_team':6,\n",
    "       'bowl_team':7,\n",
    "       'runs':48,\n",
    "       'wickets':1,\n",
    "       'overs':5.4,\n",
    "       'runs_last_5overs':43,\n",
    "       'wickets_last_5over':1}\n",
    "\n",
    "ab = pd.DataFrame(data,index=[0])\n",
    "ab"
   ]
  },
  {
   "cell_type": "code",
   "execution_count": 50,
   "id": "049ef8c7",
   "metadata": {},
   "outputs": [],
   "source": [
    "# now we will predict the Score for above sample Seanario\n",
    "# for prediction we will use out best Model i.e. Random Forest "
   ]
  },
  {
   "cell_type": "code",
   "execution_count": 51,
   "id": "843c3225",
   "metadata": {},
   "outputs": [
    {
     "name": "stdout",
     "output_type": "stream",
     "text": [
      "[239.]\n"
     ]
    }
   ],
   "source": [
    "new = rf.predict(ab)\n",
    "print(new.round(0))"
   ]
  },
  {
   "cell_type": "code",
   "execution_count": 59,
   "id": "03a0d071",
   "metadata": {},
   "outputs": [],
   "source": [
    "# Lets save the model using Pickle "
   ]
  },
  {
   "cell_type": "code",
   "execution_count": 60,
   "id": "ed64dd0a",
   "metadata": {},
   "outputs": [],
   "source": [
    "import pickle \n",
    "filename = \"ipl_score.pkl\"\n",
    "pickle.dump(rf,open(filename, 'wb'))"
   ]
  },
  {
   "cell_type": "code",
   "execution_count": null,
   "id": "f8b912eb",
   "metadata": {},
   "outputs": [],
   "source": []
  }
 ],
 "metadata": {
  "kernelspec": {
   "display_name": "Python 3 (ipykernel)",
   "language": "python",
   "name": "python3"
  },
  "language_info": {
   "codemirror_mode": {
    "name": "ipython",
    "version": 3
   },
   "file_extension": ".py",
   "mimetype": "text/x-python",
   "name": "python",
   "nbconvert_exporter": "python",
   "pygments_lexer": "ipython3",
   "version": "3.11.5"
  }
 },
 "nbformat": 4,
 "nbformat_minor": 5
}
